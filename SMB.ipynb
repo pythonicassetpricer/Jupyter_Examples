{
 "cells": [
  {
   "cell_type": "markdown",
   "metadata": {},
   "source": [
    "# Recreating Fama-French SMB"
   ]
  },
  {
   "cell_type": "markdown",
   "metadata": {},
   "source": [
    "This post will focus on the equity market. I will describe and then recreate the 10 Fama-French (FF) Small-Minus-Big (SMB) decile portfolios. \n",
    "\n",
    "<P>Some basics on SMB. In the early 1980s researchers began to poke holes in CAPM. One early problem with CAPM was the consistently higher returns from small stocks relative to large stocks. Eugene Fama and Ken French formalized this in their 1992 and 1993 papers that debuted their 3-factor model for stock returns (other 2 factors are the market and value). Their model explained a large portion of cross sectional variation in returns. \n",
    "<p>\n",
    "The model has since been updated but was a benchmark of cross sectional asset pricing research for 2 decades. That it was a bench mark was in part due to the data for the portfolios being posted on Ken French’s website (http://bit.ly/1jwasZk). The site provides much useful data for testing asset pricing. \n",
    "<p>\n",
    "Below, I recreate the 10 decile SMB portfolios and then check them versus the return series from the website. The sorting methodology I use extends to other assets or potential return factors. A researcher can sort into portfolios based on a given metric and see if a return spread is generated. From there, one can start running asset pricing tests like Fama-Macbeth regressions, GRS tests or alphas to known factors to identify if they have discovered an interesting phenomena."
   ]
  },
  {
   "cell_type": "markdown",
   "metadata": {},
   "source": [
    "#  Importing Packages"
   ]
  },
  {
   "cell_type": "markdown",
   "metadata": {},
   "source": [
    "We start by just importing packages. I just import anything I might use. "
   ]
  },
  {
   "cell_type": "code",
   "execution_count": 97,
   "metadata": {
    "collapsed": false
   },
   "outputs": [],
   "source": [
    "import pandas as pd\n",
    "from pandas import *\n",
    "import pylab as plt\n",
    "from pylab import *\n",
    "import numpy as np\n",
    "import csv as csv\n",
    "import matplotlib\n",
    "%matplotlib inline\n",
    "import scipy\n",
    "import statsmodels.api as sm\n",
    "from statsmodels import *\n",
    "import datetime as dt\n",
    "from datetime import *\n",
    "import os\n",
    "import warnings\n",
    "warnings.filterwarnings('ignore')\n",
    "\n",
    "\n",
    "def side_by_side(*objs, **kwds):\n",
    "    from pandas.core.common import adjoin\n",
    "    space = kwds.get('space', 4)\n",
    "    reprs = [repr(obj).split('\\n') for obj in objs]\n",
    "    print adjoin(space, *reprs)\n",
    "\n",
    "plt.rc('figure', figsize=(10, 6))"
   ]
  },
  {
   "cell_type": "markdown",
   "metadata": {},
   "source": [
    "# Read CRSP into Memory"
   ]
  },
  {
   "cell_type": "markdown",
   "metadata": {},
   "source": [
    "First I read the CRSP database into memory. CRSP is provided by the University of Chicago but available on WRDS. It has montly stock returns going back to the 1920s. The dataset is ~ 4mm lines long. The figure below shows the head of my dataset and the datatypes of each columns."
   ]
  },
  {
   "cell_type": "code",
   "execution_count": 98,
   "metadata": {
    "collapsed": false
   },
   "outputs": [
    {
     "name": "stdout",
     "output_type": "stream",
     "text": [
      "4149863\n"
     ]
    },
    {
     "data": {
      "text/html": [
       "<div>\n",
       "<table border=\"1\" class=\"dataframe\">\n",
       "  <thead>\n",
       "    <tr style=\"text-align: right;\">\n",
       "      <th></th>\n",
       "      <th>PERMNO</th>\n",
       "      <th>date</th>\n",
       "      <th>SHRCD</th>\n",
       "      <th>EXCHCD</th>\n",
       "      <th>SICCD</th>\n",
       "      <th>DLRET</th>\n",
       "      <th>PRC</th>\n",
       "      <th>VOL</th>\n",
       "      <th>RET</th>\n",
       "      <th>SHROUT</th>\n",
       "      <th>vwretd</th>\n",
       "    </tr>\n",
       "  </thead>\n",
       "  <tbody>\n",
       "    <tr>\n",
       "      <th>0</th>\n",
       "      <td>10000</td>\n",
       "      <td>1985/12/31</td>\n",
       "      <td>NaN</td>\n",
       "      <td>NaN</td>\n",
       "      <td>NaN</td>\n",
       "      <td>NaN</td>\n",
       "      <td>NaN</td>\n",
       "      <td>NaN</td>\n",
       "      <td>NaN</td>\n",
       "      <td>NaN</td>\n",
       "      <td>0.043061</td>\n",
       "    </tr>\n",
       "    <tr>\n",
       "      <th>1</th>\n",
       "      <td>10000</td>\n",
       "      <td>1986/01/31</td>\n",
       "      <td>10</td>\n",
       "      <td>3</td>\n",
       "      <td>3990</td>\n",
       "      <td>NaN</td>\n",
       "      <td>-4.3750</td>\n",
       "      <td>1771</td>\n",
       "      <td>C</td>\n",
       "      <td>3680</td>\n",
       "      <td>0.009829</td>\n",
       "    </tr>\n",
       "    <tr>\n",
       "      <th>2</th>\n",
       "      <td>10000</td>\n",
       "      <td>1986/02/28</td>\n",
       "      <td>10</td>\n",
       "      <td>3</td>\n",
       "      <td>3990</td>\n",
       "      <td>NaN</td>\n",
       "      <td>-3.2500</td>\n",
       "      <td>828</td>\n",
       "      <td>-0.257143</td>\n",
       "      <td>3680</td>\n",
       "      <td>0.072500</td>\n",
       "    </tr>\n",
       "    <tr>\n",
       "      <th>3</th>\n",
       "      <td>10000</td>\n",
       "      <td>1986/03/31</td>\n",
       "      <td>10</td>\n",
       "      <td>3</td>\n",
       "      <td>3990</td>\n",
       "      <td>NaN</td>\n",
       "      <td>-4.4375</td>\n",
       "      <td>1078</td>\n",
       "      <td>0.365385</td>\n",
       "      <td>3680</td>\n",
       "      <td>0.053885</td>\n",
       "    </tr>\n",
       "    <tr>\n",
       "      <th>4</th>\n",
       "      <td>10000</td>\n",
       "      <td>1986/04/30</td>\n",
       "      <td>10</td>\n",
       "      <td>3</td>\n",
       "      <td>3990</td>\n",
       "      <td>NaN</td>\n",
       "      <td>-4.0000</td>\n",
       "      <td>957</td>\n",
       "      <td>-0.098592</td>\n",
       "      <td>3793</td>\n",
       "      <td>-0.007900</td>\n",
       "    </tr>\n",
       "  </tbody>\n",
       "</table>\n",
       "</div>"
      ],
      "text/plain": [
       "   PERMNO        date  SHRCD  EXCHCD SICCD DLRET     PRC   VOL        RET  \\\n",
       "0   10000  1985/12/31    NaN     NaN   NaN   NaN     NaN   NaN        NaN   \n",
       "1   10000  1986/01/31     10       3  3990   NaN -4.3750  1771          C   \n",
       "2   10000  1986/02/28     10       3  3990   NaN -3.2500   828  -0.257143   \n",
       "3   10000  1986/03/31     10       3  3990   NaN -4.4375  1078   0.365385   \n",
       "4   10000  1986/04/30     10       3  3990   NaN -4.0000   957  -0.098592   \n",
       "\n",
       "   SHROUT    vwretd  \n",
       "0     NaN  0.043061  \n",
       "1    3680  0.009829  \n",
       "2    3680  0.072500  \n",
       "3    3680  0.053885  \n",
       "4    3793 -0.007900  "
      ]
     },
     "execution_count": 98,
     "metadata": {},
     "output_type": "execute_result"
    }
   ],
   "source": [
    "CRSP = pd.read_csv('CRSP Monthly.csv')\n",
    "print len(CRSP)\n",
    "CRSP.head()"
   ]
  },
  {
   "cell_type": "code",
   "execution_count": 99,
   "metadata": {
    "collapsed": false
   },
   "outputs": [
    {
     "data": {
      "text/plain": [
       "PERMNO      int64\n",
       "date       object\n",
       "SHRCD     float64\n",
       "EXCHCD    float64\n",
       "SICCD      object\n",
       "DLRET      object\n",
       "PRC       float64\n",
       "VOL       float64\n",
       "RET        object\n",
       "SHROUT    float64\n",
       "vwretd    float64\n",
       "dtype: object"
      ]
     },
     "execution_count": 99,
     "metadata": {},
     "output_type": "execute_result"
    }
   ],
   "source": [
    "CRSP.dtypes"
   ]
  },
  {
   "cell_type": "markdown",
   "metadata": {},
   "source": [
    "# Basic Data Manipulation"
   ]
  },
  {
   "cell_type": "markdown",
   "metadata": {},
   "source": [
    "Here I shink the dataset so we can operate on it more quickly. "
   ]
  },
  {
   "cell_type": "code",
   "execution_count": 100,
   "metadata": {
    "collapsed": false
   },
   "outputs": [
    {
     "name": "stdout",
     "output_type": "stream",
     "text": [
      "Dataset Begins -> 1927-01-31 00:00:00 . Dataset Ends -> 2014-12-31 00:00:00\n"
     ]
    }
   ],
   "source": [
    "CRSP['date'] = CRSP.date.str[:4] + '-' + CRSP.date.str[5:7] + '-' + CRSP.date.str[8:10]\n",
    "CRSP['date'] = to_datetime(CRSP['date'])\n",
    "CRSP = (CRSP.sort(['date','PERMNO'])).reset_index(drop=True)\n",
    "print 'Dataset Begins ->', CRSP['date'].min(),'. Dataset Ends ->',CRSP['date'].max()"
   ]
  },
  {
   "cell_type": "code",
   "execution_count": 101,
   "metadata": {
    "collapsed": false
   },
   "outputs": [],
   "source": [
    "CRSP = CRSP[CRSP['date'] >= datetime(1990,6,1) ]\n",
    "CRSP = CRSP[CRSP['date'] <= datetime(2014,7,1) ]"
   ]
  },
  {
   "cell_type": "markdown",
   "metadata": {},
   "source": [
    "CRSP contains stocks that are not common shares. I keep on those with share code 10 and 11 in line with FF. Then I keep only the NYSE, AMEX and NASDAQ stocks. Finally, I convert negative prices (which are indicative of no trade and therefore an estimated price) to positive prices. "
   ]
  },
  {
   "cell_type": "code",
   "execution_count": 102,
   "metadata": {
    "collapsed": false
   },
   "outputs": [
    {
     "data": {
      "text/plain": [
       "1582613"
      ]
     },
     "execution_count": 102,
     "metadata": {},
     "output_type": "execute_result"
    }
   ],
   "source": [
    "CRSP = CRSP[(CRSP['SHRCD'] == 10) | (CRSP['SHRCD'] == 11)]\n",
    "CRSP = CRSP[(CRSP['EXCHCD'] == 1) | (CRSP['EXCHCD'] == 2) | (CRSP['EXCHCD'] == 3)]\n",
    "CRSP = CRSP.drop('SHRCD',1)\n",
    "len(CRSP)"
   ]
  },
  {
   "cell_type": "code",
   "execution_count": 103,
   "metadata": {
    "collapsed": true
   },
   "outputs": [],
   "source": [
    "CRSP['PRC'] = abs(CRSP['PRC'])\n",
    "CRSP['MKT_CAP'] = abs(CRSP['PRC'] * CRSP['SHROUT'])"
   ]
  },
  {
   "cell_type": "markdown",
   "metadata": {},
   "source": [
    "Next I focus on returns. I convert all non-float data to null values and then convert to floats.\n",
    "\n",
    "I do this for delisting returns (which are the returns of a stock before it gets delisted) and other stock returns.  "
   ]
  },
  {
   "cell_type": "code",
   "execution_count": 104,
   "metadata": {
    "collapsed": false
   },
   "outputs": [
    {
     "data": {
      "text/plain": [
       "PERMNO              int64\n",
       "date       datetime64[ns]\n",
       "EXCHCD            float64\n",
       "SICCD              object\n",
       "DLRET             float64\n",
       "PRC               float64\n",
       "VOL               float64\n",
       "RET               float64\n",
       "SHROUT            float64\n",
       "vwretd            float64\n",
       "MKT_CAP           float64\n",
       "dtype: object"
      ]
     },
     "execution_count": 104,
     "metadata": {},
     "output_type": "execute_result"
    }
   ],
   "source": [
    "CRSP.RET[CRSP['RET'] == 'C'] = np.nan\n",
    "CRSP.RET[CRSP['RET'] == 'B'] = np.nan\n",
    "CRSP.RET = CRSP.RET.astype(float)\n",
    "\n",
    "CRSP.DLRET[CRSP['DLRET'] == 'A'] = np.nan\n",
    "CRSP.DLRET[CRSP['DLRET'] == 'S'] = np.nan\n",
    "CRSP.DLRET[CRSP['DLRET'] == 'T'] = np.nan\n",
    "CRSP.DLRET[CRSP['DLRET'] == 'P'] = np.nan\n",
    "CRSP.DLRET = CRSP.DLRET.astype(float)\n",
    "CRSP.dtypes"
   ]
  },
  {
   "cell_type": "markdown",
   "metadata": {},
   "source": [
    "Next I add delisting returns to actual returns. "
   ]
  },
  {
   "cell_type": "code",
   "execution_count": 105,
   "metadata": {
    "collapsed": false
   },
   "outputs": [],
   "source": [
    "CRSP.RET[isnull(CRSP['DLRET'])] = CRSP.RET\n",
    "CRSP.RET[(notnull(CRSP['DLRET'])) & (isnull(CRSP['RET'])) ] = CRSP.DLRET\n",
    "CRSP.RET[(notnull(CRSP['DLRET'])) & (notnull(CRSP['RET'])) ] = CRSP.DLRET + CRSP.RET\n",
    "CRSP.drop('DLRET', axis=1, inplace=True)"
   ]
  },
  {
   "cell_type": "markdown",
   "metadata": {},
   "source": [
    "Later FF will use months in their portfolio construction. I create columns for month and year that we can use for this later. "
   ]
  },
  {
   "cell_type": "code",
   "execution_count": 106,
   "metadata": {
    "collapsed": false
   },
   "outputs": [],
   "source": [
    "CRSP['year'] = CRSP['date'].dt.year\n",
    "CRSP['month'] = CRSP['date'].dt.month"
   ]
  },
  {
   "cell_type": "markdown",
   "metadata": {},
   "source": [
    "FF use an interesting methodology. From French's website \"The portfolios for July of year t to June of t+1 include all NYSE, AMEX, and NASDAQ stocks for which we have market equity data for June of t.\" So the return year will be from June to July. I create a column called portoflio year that will allow us to track a portfolio from July of year t to June of t+1. "
   ]
  },
  {
   "cell_type": "code",
   "execution_count": 107,
   "metadata": {
    "collapsed": false
   },
   "outputs": [],
   "source": [
    "CRSP['portfolio_year'] = CRSP.year - 1\n",
    "CRSP.portfolio_year[(CRSP.month >= 7) & (CRSP.month <= 12)] = CRSP.year"
   ]
  },
  {
   "cell_type": "markdown",
   "metadata": {},
   "source": [
    "# Breakpoints"
   ]
  },
  {
   "cell_type": "markdown",
   "metadata": {},
   "source": [
    "Fama and French use NYSE breakpoints. FF divide up the NYSE in deciles by market cap on each day in the data. Then, based on those NYSE market cap deciles, they allocate stocks from the other exchanges. \n",
    "<p>\n",
    "To calulate breakpoints below, I first take stocks 1) from the month of June, 2) that are in the NYSE and 3) that have a market cap. Poor data would cause a stock to not have a market cap. Second, calculate rank based on market cap for each year in my dataset. Then I assign them to deciles based on that rank. "
   ]
  },
  {
   "cell_type": "code",
   "execution_count": 108,
   "metadata": {
    "collapsed": false
   },
   "outputs": [],
   "source": [
    "CRSP_NYSE_JUNE =  CRSP[CRSP['month'] == 6 ]\n",
    "CRSP_NYSE_JUNE =  CRSP_NYSE_JUNE[CRSP_NYSE_JUNE['EXCHCD'] == 1 ]\n",
    "CRSP_NYSE_JUNE =  CRSP_NYSE_JUNE[notnull(CRSP_NYSE_JUNE['MKT_CAP'])]"
   ]
  },
  {
   "cell_type": "code",
   "execution_count": 109,
   "metadata": {
    "collapsed": false
   },
   "outputs": [],
   "source": [
    "CRSP_NYSE_JUNE['RANK'] = CRSP_NYSE_JUNE.groupby(['year'])['MKT_CAP'].rank(pct = True)\n",
    "CRSP_NYSE_JUNE['NYSE_DECILE'] = np.nan\n",
    "for i in range(1,10):\n",
    "    CRSP_NYSE_JUNE.NYSE_DECILE[CRSP_NYSE_JUNE.RANK >= float(i)/10] = int(i)+1\n",
    "CRSP_NYSE_JUNE.NYSE_DECILE[isnull(CRSP_NYSE_JUNE.NYSE_DECILE)] = 1"
   ]
  },
  {
   "cell_type": "markdown",
   "metadata": {},
   "source": [
    "To create the breakpoint dataset for each year, I find the highest market cap in a given decile for each year. Note taht we can it by year because we limited the dataset to June above. "
   ]
  },
  {
   "cell_type": "code",
   "execution_count": 110,
   "metadata": {
    "collapsed": false
   },
   "outputs": [
    {
     "data": {
      "text/html": [
       "<div>\n",
       "<table border=\"1\" class=\"dataframe\">\n",
       "  <thead>\n",
       "    <tr style=\"text-align: right;\">\n",
       "      <th>NYSE_DECILE</th>\n",
       "      <th>year</th>\n",
       "      <th>NYSE_D_1</th>\n",
       "      <th>NYSE_D_2</th>\n",
       "      <th>NYSE_D_3</th>\n",
       "      <th>NYSE_D_4</th>\n",
       "      <th>NYSE_D_5</th>\n",
       "      <th>NYSE_D_6</th>\n",
       "      <th>NYSE_D_7</th>\n",
       "      <th>NYSE_D_8</th>\n",
       "      <th>NYSE_D_9</th>\n",
       "      <th>NYSE_D_10</th>\n",
       "    </tr>\n",
       "  </thead>\n",
       "  <tbody>\n",
       "    <tr>\n",
       "      <th>0</th>\n",
       "      <td>1990</td>\n",
       "      <td>44045.375</td>\n",
       "      <td>95912.250</td>\n",
       "      <td>179984.875</td>\n",
       "      <td>297156.25</td>\n",
       "      <td>493159.50</td>\n",
       "      <td>800212.500</td>\n",
       "      <td>1276420.500</td>\n",
       "      <td>2242767.50</td>\n",
       "      <td>4507827.000</td>\n",
       "      <td>67527250.000</td>\n",
       "    </tr>\n",
       "    <tr>\n",
       "      <th>1</th>\n",
       "      <td>1991</td>\n",
       "      <td>39516.750</td>\n",
       "      <td>89855.000</td>\n",
       "      <td>177730.000</td>\n",
       "      <td>289021.25</td>\n",
       "      <td>475664.00</td>\n",
       "      <td>771547.125</td>\n",
       "      <td>1255014.000</td>\n",
       "      <td>2192245.00</td>\n",
       "      <td>4643235.750</td>\n",
       "      <td>72350861.250</td>\n",
       "    </tr>\n",
       "    <tr>\n",
       "      <th>2</th>\n",
       "      <td>1992</td>\n",
       "      <td>49079.750</td>\n",
       "      <td>107457.000</td>\n",
       "      <td>191521.000</td>\n",
       "      <td>322165.25</td>\n",
       "      <td>509066.50</td>\n",
       "      <td>843757.250</td>\n",
       "      <td>1308104.000</td>\n",
       "      <td>2472483.75</td>\n",
       "      <td>4917043.500</td>\n",
       "      <td>76848750.000</td>\n",
       "    </tr>\n",
       "    <tr>\n",
       "      <th>3</th>\n",
       "      <td>1993</td>\n",
       "      <td>59636.250</td>\n",
       "      <td>141520.875</td>\n",
       "      <td>252222.250</td>\n",
       "      <td>405725.25</td>\n",
       "      <td>622825.50</td>\n",
       "      <td>998024.625</td>\n",
       "      <td>1532247.750</td>\n",
       "      <td>2791733.25</td>\n",
       "      <td>5244044.625</td>\n",
       "      <td>84682017.000</td>\n",
       "    </tr>\n",
       "    <tr>\n",
       "      <th>4</th>\n",
       "      <td>1994</td>\n",
       "      <td>63430.000</td>\n",
       "      <td>149435.000</td>\n",
       "      <td>244229.625</td>\n",
       "      <td>389200.00</td>\n",
       "      <td>605422.75</td>\n",
       "      <td>902632.500</td>\n",
       "      <td>1435830.375</td>\n",
       "      <td>2542728.00</td>\n",
       "      <td>5200334.000</td>\n",
       "      <td>79746793.875</td>\n",
       "    </tr>\n",
       "  </tbody>\n",
       "</table>\n",
       "</div>"
      ],
      "text/plain": [
       "NYSE_DECILE  year   NYSE_D_1    NYSE_D_2    NYSE_D_3   NYSE_D_4   NYSE_D_5  \\\n",
       "0            1990  44045.375   95912.250  179984.875  297156.25  493159.50   \n",
       "1            1991  39516.750   89855.000  177730.000  289021.25  475664.00   \n",
       "2            1992  49079.750  107457.000  191521.000  322165.25  509066.50   \n",
       "3            1993  59636.250  141520.875  252222.250  405725.25  622825.50   \n",
       "4            1994  63430.000  149435.000  244229.625  389200.00  605422.75   \n",
       "\n",
       "NYSE_DECILE    NYSE_D_6     NYSE_D_7    NYSE_D_8     NYSE_D_9     NYSE_D_10  \n",
       "0            800212.500  1276420.500  2242767.50  4507827.000  67527250.000  \n",
       "1            771547.125  1255014.000  2192245.00  4643235.750  72350861.250  \n",
       "2            843757.250  1308104.000  2472483.75  4917043.500  76848750.000  \n",
       "3            998024.625  1532247.750  2791733.25  5244044.625  84682017.000  \n",
       "4            902632.500  1435830.375  2542728.00  5200334.000  79746793.875  "
      ]
     },
     "execution_count": 110,
     "metadata": {},
     "output_type": "execute_result"
    }
   ],
   "source": [
    "BREAKPOINTS = DataFrame(CRSP_NYSE_JUNE.groupby(['year','NYSE_DECILE'])['MKT_CAP'].max())\n",
    "BREAKPOINTS = BREAKPOINTS.unstack('NYSE_DECILE')\n",
    "BREAKPOINTS = BREAKPOINTS.reset_index(drop=False)\n",
    "BREAKPOINTS.columns = BREAKPOINTS.columns.droplevel()\n",
    "BREAKPOINTS.rename(columns={'': 'year'}, inplace=True)\n",
    "\n",
    "for i in range(1,11):\n",
    "    BREAKPOINTS.rename(columns={i: 'NYSE_D_'+str(i)}, inplace=True)\n",
    "BREAKPOINTS.head()"
   ]
  },
  {
   "cell_type": "markdown",
   "metadata": {},
   "source": [
    "Now assign non-NYSE stocks to their portfoios based on their market cap in June. Create a dataset that is every stock in June and merge it with your breakpoints. First merge the breakpoints based on year. "
   ]
  },
  {
   "cell_type": "code",
   "execution_count": 111,
   "metadata": {
    "collapsed": false
   },
   "outputs": [],
   "source": [
    "CRSP_JUNE =  CRSP[CRSP['month'] == 6 ]\n",
    "CRSP_JUNE['DECILE'] = np.nan\n",
    "CRSP_JUNE = merge(CRSP_JUNE,BREAKPOINTS,on=['year'], how='outer')"
   ]
  },
  {
   "cell_type": "markdown",
   "metadata": {},
   "source": [
    "Then assign each stock a Decile. This will be its decile throughout the year. Note that we merge based on portfolio year."
   ]
  },
  {
   "cell_type": "code",
   "execution_count": 112,
   "metadata": {
    "collapsed": false
   },
   "outputs": [],
   "source": [
    "for i in range(1,10):\n",
    "    CRSP_JUNE.DECILE[CRSP_JUNE.MKT_CAP > CRSP_JUNE['NYSE_D_'+str(i)]] = int(i)+1\n",
    "CRSP_JUNE.DECILE[isnull(CRSP_JUNE.DECILE)] = 1"
   ]
  },
  {
   "cell_type": "code",
   "execution_count": 113,
   "metadata": {
    "collapsed": false
   },
   "outputs": [],
   "source": [
    "CRSP_JUNE = CRSP_JUNE[['PERMNO','year','DECILE']]\n",
    "CRSP_JUNE.rename(columns={'year': 'portfolio_year'}, inplace=True)"
   ]
  },
  {
   "cell_type": "markdown",
   "metadata": {},
   "source": [
    "And we're done. Each stock is now assigned to the correct portfolio based on its market cap. "
   ]
  },
  {
   "cell_type": "code",
   "execution_count": 114,
   "metadata": {
    "collapsed": false
   },
   "outputs": [
    {
     "data": {
      "text/html": [
       "<div>\n",
       "<table border=\"1\" class=\"dataframe\">\n",
       "  <thead>\n",
       "    <tr style=\"text-align: right;\">\n",
       "      <th></th>\n",
       "      <th>PERMNO</th>\n",
       "      <th>date</th>\n",
       "      <th>EXCHCD</th>\n",
       "      <th>SICCD</th>\n",
       "      <th>PRC</th>\n",
       "      <th>VOL</th>\n",
       "      <th>RET</th>\n",
       "      <th>SHROUT</th>\n",
       "      <th>vwretd</th>\n",
       "      <th>MKT_CAP</th>\n",
       "      <th>year</th>\n",
       "      <th>month</th>\n",
       "      <th>portfolio_year</th>\n",
       "      <th>DECILE</th>\n",
       "    </tr>\n",
       "  </thead>\n",
       "  <tbody>\n",
       "    <tr>\n",
       "      <th>0</th>\n",
       "      <td>10001</td>\n",
       "      <td>1990-06-29</td>\n",
       "      <td>3</td>\n",
       "      <td>4920</td>\n",
       "      <td>9.75000</td>\n",
       "      <td>105</td>\n",
       "      <td>0.014103</td>\n",
       "      <td>1031</td>\n",
       "      <td>-0.004196</td>\n",
       "      <td>10052.25000</td>\n",
       "      <td>1990</td>\n",
       "      <td>6</td>\n",
       "      <td>1989</td>\n",
       "      <td>NaN</td>\n",
       "    </tr>\n",
       "    <tr>\n",
       "      <th>1</th>\n",
       "      <td>10002</td>\n",
       "      <td>1990-06-29</td>\n",
       "      <td>3</td>\n",
       "      <td>6710</td>\n",
       "      <td>6.37500</td>\n",
       "      <td>69</td>\n",
       "      <td>0.000000</td>\n",
       "      <td>1175</td>\n",
       "      <td>-0.004196</td>\n",
       "      <td>7490.62500</td>\n",
       "      <td>1990</td>\n",
       "      <td>6</td>\n",
       "      <td>1989</td>\n",
       "      <td>NaN</td>\n",
       "    </tr>\n",
       "    <tr>\n",
       "      <th>2</th>\n",
       "      <td>10003</td>\n",
       "      <td>1990-06-29</td>\n",
       "      <td>3</td>\n",
       "      <td>6020</td>\n",
       "      <td>5.75000</td>\n",
       "      <td>973</td>\n",
       "      <td>-0.178571</td>\n",
       "      <td>2194</td>\n",
       "      <td>-0.004196</td>\n",
       "      <td>12615.50000</td>\n",
       "      <td>1990</td>\n",
       "      <td>6</td>\n",
       "      <td>1989</td>\n",
       "      <td>NaN</td>\n",
       "    </tr>\n",
       "    <tr>\n",
       "      <th>3</th>\n",
       "      <td>10005</td>\n",
       "      <td>1990-06-29</td>\n",
       "      <td>3</td>\n",
       "      <td>1310</td>\n",
       "      <td>0.04688</td>\n",
       "      <td>0</td>\n",
       "      <td>0.000000</td>\n",
       "      <td>8376</td>\n",
       "      <td>-0.004196</td>\n",
       "      <td>392.66688</td>\n",
       "      <td>1990</td>\n",
       "      <td>6</td>\n",
       "      <td>1989</td>\n",
       "      <td>NaN</td>\n",
       "    </tr>\n",
       "    <tr>\n",
       "      <th>4</th>\n",
       "      <td>10007</td>\n",
       "      <td>1990-06-29</td>\n",
       "      <td>3</td>\n",
       "      <td>7370</td>\n",
       "      <td>1.96875</td>\n",
       "      <td>6104</td>\n",
       "      <td>-0.100000</td>\n",
       "      <td>4134</td>\n",
       "      <td>-0.004196</td>\n",
       "      <td>8138.81250</td>\n",
       "      <td>1990</td>\n",
       "      <td>6</td>\n",
       "      <td>1989</td>\n",
       "      <td>NaN</td>\n",
       "    </tr>\n",
       "  </tbody>\n",
       "</table>\n",
       "</div>"
      ],
      "text/plain": [
       "   PERMNO       date  EXCHCD SICCD      PRC   VOL       RET  SHROUT    vwretd  \\\n",
       "0   10001 1990-06-29       3  4920  9.75000   105  0.014103    1031 -0.004196   \n",
       "1   10002 1990-06-29       3  6710  6.37500    69  0.000000    1175 -0.004196   \n",
       "2   10003 1990-06-29       3  6020  5.75000   973 -0.178571    2194 -0.004196   \n",
       "3   10005 1990-06-29       3  1310  0.04688     0  0.000000    8376 -0.004196   \n",
       "4   10007 1990-06-29       3  7370  1.96875  6104 -0.100000    4134 -0.004196   \n",
       "\n",
       "       MKT_CAP  year  month  portfolio_year  DECILE  \n",
       "0  10052.25000  1990      6            1989     NaN  \n",
       "1   7490.62500  1990      6            1989     NaN  \n",
       "2  12615.50000  1990      6            1989     NaN  \n",
       "3    392.66688  1990      6            1989     NaN  \n",
       "4   8138.81250  1990      6            1989     NaN  "
      ]
     },
     "execution_count": 114,
     "metadata": {},
     "output_type": "execute_result"
    }
   ],
   "source": [
    "CRSP = merge(CRSP,CRSP_JUNE,on=['PERMNO','portfolio_year'], how='outer')\n",
    "CRSP.head()"
   ]
  },
  {
   "cell_type": "markdown",
   "metadata": {},
   "source": [
    "Delete bad datapoints."
   ]
  },
  {
   "cell_type": "code",
   "execution_count": 115,
   "metadata": {
    "collapsed": true
   },
   "outputs": [],
   "source": [
    "CRSP = CRSP[notnull(CRSP['date'])]\n",
    "CRSP = CRSP[notnull(CRSP['DECILE'])]\n",
    "CRSP = CRSP[notnull(CRSP['MKT_CAP'])]\n",
    "CRSP.RET[isnull(CRSP.RET)] = 0\n",
    "CRSP = CRSP.sort(['PERMNO','date'])"
   ]
  },
  {
   "cell_type": "markdown",
   "metadata": {},
   "source": [
    "# Portfolio Returns"
   ]
  },
  {
   "cell_type": "markdown",
   "metadata": {},
   "source": [
    "Now that we have the portfolio groupings, we can calculate the equal weighted returns for each portfolio. Generally value weighted returns are more useful in asset pricing (because equal weighted returns bias our portfolio towards small stocks) and they will be calculated below. "
   ]
  },
  {
   "cell_type": "code",
   "execution_count": 116,
   "metadata": {
    "collapsed": false
   },
   "outputs": [
    {
     "data": {
      "text/html": [
       "<div>\n",
       "<table border=\"1\" class=\"dataframe\">\n",
       "  <thead>\n",
       "    <tr style=\"text-align: right;\">\n",
       "      <th>DECILE</th>\n",
       "      <th>date</th>\n",
       "      <th>1.0</th>\n",
       "      <th>2.0</th>\n",
       "      <th>3.0</th>\n",
       "      <th>4.0</th>\n",
       "      <th>5.0</th>\n",
       "      <th>6.0</th>\n",
       "      <th>7.0</th>\n",
       "      <th>8.0</th>\n",
       "      <th>9.0</th>\n",
       "      <th>10.0</th>\n",
       "    </tr>\n",
       "  </thead>\n",
       "  <tbody>\n",
       "    <tr>\n",
       "      <th>0</th>\n",
       "      <td>1990-07-31</td>\n",
       "      <td>-0.026516</td>\n",
       "      <td>-0.049684</td>\n",
       "      <td>-0.040861</td>\n",
       "      <td>-0.043285</td>\n",
       "      <td>-0.036511</td>\n",
       "      <td>-0.038958</td>\n",
       "      <td>-0.019492</td>\n",
       "      <td>-0.024468</td>\n",
       "      <td>-0.023132</td>\n",
       "      <td>-0.005740</td>\n",
       "    </tr>\n",
       "    <tr>\n",
       "      <th>1</th>\n",
       "      <td>1990-08-31</td>\n",
       "      <td>-0.107862</td>\n",
       "      <td>-0.138956</td>\n",
       "      <td>-0.134520</td>\n",
       "      <td>-0.130707</td>\n",
       "      <td>-0.127632</td>\n",
       "      <td>-0.114753</td>\n",
       "      <td>-0.105979</td>\n",
       "      <td>-0.104557</td>\n",
       "      <td>-0.096465</td>\n",
       "      <td>-0.089001</td>\n",
       "    </tr>\n",
       "    <tr>\n",
       "      <th>2</th>\n",
       "      <td>1990-09-28</td>\n",
       "      <td>-0.075107</td>\n",
       "      <td>-0.099465</td>\n",
       "      <td>-0.094494</td>\n",
       "      <td>-0.102092</td>\n",
       "      <td>-0.104577</td>\n",
       "      <td>-0.083148</td>\n",
       "      <td>-0.066684</td>\n",
       "      <td>-0.080090</td>\n",
       "      <td>-0.071835</td>\n",
       "      <td>-0.052197</td>\n",
       "    </tr>\n",
       "    <tr>\n",
       "      <th>3</th>\n",
       "      <td>1990-10-31</td>\n",
       "      <td>-0.068468</td>\n",
       "      <td>-0.066656</td>\n",
       "      <td>-0.060363</td>\n",
       "      <td>-0.058043</td>\n",
       "      <td>-0.067521</td>\n",
       "      <td>-0.039934</td>\n",
       "      <td>-0.033579</td>\n",
       "      <td>-0.036507</td>\n",
       "      <td>-0.025597</td>\n",
       "      <td>-0.004638</td>\n",
       "    </tr>\n",
       "    <tr>\n",
       "      <th>4</th>\n",
       "      <td>1990-11-30</td>\n",
       "      <td>0.003677</td>\n",
       "      <td>0.044639</td>\n",
       "      <td>0.080355</td>\n",
       "      <td>0.086697</td>\n",
       "      <td>0.108824</td>\n",
       "      <td>0.094805</td>\n",
       "      <td>0.094901</td>\n",
       "      <td>0.112393</td>\n",
       "      <td>0.113106</td>\n",
       "      <td>0.068144</td>\n",
       "    </tr>\n",
       "  </tbody>\n",
       "</table>\n",
       "</div>"
      ],
      "text/plain": [
       "DECILE       date       1.0       2.0       3.0       4.0       5.0       6.0  \\\n",
       "0      1990-07-31 -0.026516 -0.049684 -0.040861 -0.043285 -0.036511 -0.038958   \n",
       "1      1990-08-31 -0.107862 -0.138956 -0.134520 -0.130707 -0.127632 -0.114753   \n",
       "2      1990-09-28 -0.075107 -0.099465 -0.094494 -0.102092 -0.104577 -0.083148   \n",
       "3      1990-10-31 -0.068468 -0.066656 -0.060363 -0.058043 -0.067521 -0.039934   \n",
       "4      1990-11-30  0.003677  0.044639  0.080355  0.086697  0.108824  0.094805   \n",
       "\n",
       "DECILE       7.0       8.0       9.0      10.0  \n",
       "0      -0.019492 -0.024468 -0.023132 -0.005740  \n",
       "1      -0.105979 -0.104557 -0.096465 -0.089001  \n",
       "2      -0.066684 -0.080090 -0.071835 -0.052197  \n",
       "3      -0.033579 -0.036507 -0.025597 -0.004638  \n",
       "4       0.094901  0.112393  0.113106  0.068144  "
      ]
     },
     "execution_count": 116,
     "metadata": {},
     "output_type": "execute_result"
    }
   ],
   "source": [
    "MONTHLY_EW = CRSP.groupby(['date','DECILE'])['RET'].mean()\n",
    "MONTHLY_EW = MONTHLY_EW.unstack('DECILE')\n",
    "MONTHLY_EW = MONTHLY_EW.reset_index(drop=False)\n",
    "MONTHLY_EW.head()"
   ]
  },
  {
   "cell_type": "markdown",
   "metadata": {},
   "source": [
    "Let's check our data vs. French's website. First, I'll import it and slice it such that the dates of French's site line up with the data I created above. "
   ]
  },
  {
   "cell_type": "code",
   "execution_count": 117,
   "metadata": {
    "collapsed": false
   },
   "outputs": [
    {
     "name": "stdout",
     "output_type": "stream",
     "text": [
      "Checking to make sure datasets are the same size -> 0\n"
     ]
    },
    {
     "data": {
      "text/html": [
       "<div>\n",
       "<table border=\"1\" class=\"dataframe\">\n",
       "  <thead>\n",
       "    <tr style=\"text-align: right;\">\n",
       "      <th></th>\n",
       "      <th>date.1</th>\n",
       "      <th>EW_10</th>\n",
       "      <th>EW_20</th>\n",
       "      <th>EW_30</th>\n",
       "      <th>EW_40</th>\n",
       "      <th>EW_50</th>\n",
       "      <th>EW_60</th>\n",
       "      <th>EW_70</th>\n",
       "      <th>EW_80</th>\n",
       "      <th>EW_90</th>\n",
       "      <th>EW_100</th>\n",
       "    </tr>\n",
       "  </thead>\n",
       "  <tbody>\n",
       "    <tr>\n",
       "      <th>768</th>\n",
       "      <td>199007</td>\n",
       "      <td>-0.0274</td>\n",
       "      <td>-0.0470</td>\n",
       "      <td>-0.0404</td>\n",
       "      <td>-0.0415</td>\n",
       "      <td>-0.0381</td>\n",
       "      <td>-0.0385</td>\n",
       "      <td>-0.0162</td>\n",
       "      <td>-0.0248</td>\n",
       "      <td>-0.0212</td>\n",
       "      <td>-0.0067</td>\n",
       "    </tr>\n",
       "    <tr>\n",
       "      <th>769</th>\n",
       "      <td>199008</td>\n",
       "      <td>-0.1094</td>\n",
       "      <td>-0.1399</td>\n",
       "      <td>-0.1334</td>\n",
       "      <td>-0.1275</td>\n",
       "      <td>-0.1274</td>\n",
       "      <td>-0.1183</td>\n",
       "      <td>-0.1019</td>\n",
       "      <td>-0.1036</td>\n",
       "      <td>-0.0972</td>\n",
       "      <td>-0.0890</td>\n",
       "    </tr>\n",
       "    <tr>\n",
       "      <th>770</th>\n",
       "      <td>199009</td>\n",
       "      <td>-0.0756</td>\n",
       "      <td>-0.0990</td>\n",
       "      <td>-0.0942</td>\n",
       "      <td>-0.1013</td>\n",
       "      <td>-0.1032</td>\n",
       "      <td>-0.0820</td>\n",
       "      <td>-0.0643</td>\n",
       "      <td>-0.0841</td>\n",
       "      <td>-0.0678</td>\n",
       "      <td>-0.0526</td>\n",
       "    </tr>\n",
       "    <tr>\n",
       "      <th>771</th>\n",
       "      <td>199010</td>\n",
       "      <td>-0.0701</td>\n",
       "      <td>-0.0629</td>\n",
       "      <td>-0.0606</td>\n",
       "      <td>-0.0570</td>\n",
       "      <td>-0.0681</td>\n",
       "      <td>-0.0426</td>\n",
       "      <td>-0.0318</td>\n",
       "      <td>-0.0338</td>\n",
       "      <td>-0.0308</td>\n",
       "      <td>-0.0028</td>\n",
       "    </tr>\n",
       "    <tr>\n",
       "      <th>772</th>\n",
       "      <td>199011</td>\n",
       "      <td>0.0049</td>\n",
       "      <td>0.0437</td>\n",
       "      <td>0.0783</td>\n",
       "      <td>0.0861</td>\n",
       "      <td>0.1059</td>\n",
       "      <td>0.0984</td>\n",
       "      <td>0.0900</td>\n",
       "      <td>0.1101</td>\n",
       "      <td>0.1150</td>\n",
       "      <td>0.0682</td>\n",
       "    </tr>\n",
       "  </tbody>\n",
       "</table>\n",
       "</div>"
      ],
      "text/plain": [
       "     date.1   EW_10   EW_20   EW_30   EW_40   EW_50   EW_60   EW_70   EW_80  \\\n",
       "768  199007 -0.0274 -0.0470 -0.0404 -0.0415 -0.0381 -0.0385 -0.0162 -0.0248   \n",
       "769  199008 -0.1094 -0.1399 -0.1334 -0.1275 -0.1274 -0.1183 -0.1019 -0.1036   \n",
       "770  199009 -0.0756 -0.0990 -0.0942 -0.1013 -0.1032 -0.0820 -0.0643 -0.0841   \n",
       "771  199010 -0.0701 -0.0629 -0.0606 -0.0570 -0.0681 -0.0426 -0.0318 -0.0338   \n",
       "772  199011  0.0049  0.0437  0.0783  0.0861  0.1059  0.0984  0.0900  0.1101   \n",
       "\n",
       "      EW_90  EW_100  \n",
       "768 -0.0212 -0.0067  \n",
       "769 -0.0972 -0.0890  \n",
       "770 -0.0678 -0.0526  \n",
       "771 -0.0308 -0.0028  \n",
       "772  0.1150  0.0682  "
      ]
     },
     "execution_count": 117,
     "metadata": {},
     "output_type": "execute_result"
    }
   ],
   "source": [
    "FFSMB2 = pd.read_csv('SMB 10 Port.csv')\n",
    "FFSMB = FFSMB2.ix[768:1055,11:22]\n",
    "print 'Checking to make sure datasets are the same size ->',len(FFSMB) - len(MONTHLY_EW)\n",
    "\n",
    "FFSMB.head()"
   ]
  },
  {
   "cell_type": "markdown",
   "metadata": {},
   "source": [
    "The loop below checks how closely the match. The columns are:\n",
    "1. Correlation between i'th portfolio's return and the return from the FF website. \n",
    "2. Mean return of the portfolio. \n",
    "3. Mean return of the portfolio from French's website. \n",
    "\n",
    "<p>\n",
    "The mean return from the smallest portfolio is too high but the correlations are extremely high. "
   ]
  },
  {
   "cell_type": "code",
   "execution_count": 118,
   "metadata": {
    "collapsed": false
   },
   "outputs": [
    {
     "name": "stdout",
     "output_type": "stream",
     "text": [
      "  Correlation    Mean           Mean of FF\n",
      "1 0.999566596785 0.184598813959 0.167741666667\n",
      "2 0.998846100574 0.127733404065 0.1267125\n",
      "3 0.998364836512 0.133684054603 0.134754166667\n",
      "4 0.998555525724 0.128616154443 0.123816666667\n",
      "5 0.997835477364 0.132702639088 0.1329375\n",
      "6 0.997966734955 0.133843373056 0.13845\n",
      "7 0.997030605968 0.139342091172 0.136283333333\n",
      "8 0.997828445135 0.122563255404 0.1243875\n",
      "9 0.99885192014 0.126535971919 0.125395833333\n",
      "10 0.999545116003 0.103385051222 0.105141666667\n"
     ]
    }
   ],
   "source": [
    "print '  Correlation   ','Mean','          Mean of FF'\n",
    "for i in range (1,11):\n",
    "    print i, (np.corrcoef(MONTHLY_EW[i],FFSMB['EW_'+str(i*10)]))[1,0], 12* np.mean(MONTHLY_EW[i]), 12* np.mean((FFSMB['EW_'+str(i*10)]))"
   ]
  },
  {
   "cell_type": "markdown",
   "metadata": {},
   "source": [
    "The chart below shows the datasets moving together. "
   ]
  },
  {
   "cell_type": "code",
   "execution_count": 119,
   "metadata": {
    "collapsed": false
   },
   "outputs": [
    {
     "data": {
      "text/plain": [
       "[<matplotlib.lines.Line2D at 0x3f347d30>]"
      ]
     },
     "execution_count": 119,
     "metadata": {},
     "output_type": "execute_result"
    },
    {
     "data": {
      "image/png": "[encoded data removed]",
      "text/plain": [
       "<matplotlib.figure.Figure at 0x361bb8d0>"
      ]
     },
     "metadata": {},
     "output_type": "display_data"
    }
   ],
   "source": [
    "plt.plot(MONTHLY_EW['date'],MONTHLY_EW[1])\n",
    "plt.plot(MONTHLY_EW['date'],FFSMB['EW_10'])"
   ]
  },
  {
   "cell_type": "markdown",
   "metadata": {},
   "source": [
    "Now I show the value weighted returns. First I calculate the total market cap in each decile and then divide the market cap of each stock by it. "
   ]
  },
  {
   "cell_type": "code",
   "execution_count": 120,
   "metadata": {
    "collapsed": false
   },
   "outputs": [],
   "source": [
    "WEIGHT = DataFrame(CRSP.groupby(['date','DECILE'])['MKT_CAP'].sum()).reset_index(drop=False)\n",
    "WEIGHT = WEIGHT.rename(columns={'MKT_CAP':'TOTAL_MKT_CAP'})\n",
    "CRSP = merge(CRSP,WEIGHT,on=['date','DECILE'], how='inner')\n",
    "CRSP['WEIGHT'] = CRSP['MKT_CAP'] / CRSP['TOTAL_MKT_CAP']"
   ]
  },
  {
   "cell_type": "code",
   "execution_count": 121,
   "metadata": {
    "collapsed": false
   },
   "outputs": [
    {
     "data": {
      "text/html": [
       "<div>\n",
       "<table border=\"1\" class=\"dataframe\">\n",
       "  <thead>\n",
       "    <tr style=\"text-align: right;\">\n",
       "      <th>DECILE</th>\n",
       "      <th>date</th>\n",
       "      <th>1.0</th>\n",
       "      <th>2.0</th>\n",
       "      <th>3.0</th>\n",
       "      <th>4.0</th>\n",
       "      <th>5.0</th>\n",
       "      <th>6.0</th>\n",
       "      <th>7.0</th>\n",
       "      <th>8.0</th>\n",
       "      <th>9.0</th>\n",
       "      <th>10.0</th>\n",
       "    </tr>\n",
       "  </thead>\n",
       "  <tbody>\n",
       "    <tr>\n",
       "      <th>1</th>\n",
       "      <td>1990-08-31</td>\n",
       "      <td>-0.122496</td>\n",
       "      <td>-0.137856</td>\n",
       "      <td>-0.132280</td>\n",
       "      <td>-0.128708</td>\n",
       "      <td>-0.125367</td>\n",
       "      <td>-0.111318</td>\n",
       "      <td>-0.100984</td>\n",
       "      <td>-0.102078</td>\n",
       "      <td>-0.093154</td>\n",
       "      <td>-0.085146</td>\n",
       "    </tr>\n",
       "    <tr>\n",
       "      <th>2</th>\n",
       "      <td>1990-09-28</td>\n",
       "      <td>-0.084969</td>\n",
       "      <td>-0.095266</td>\n",
       "      <td>-0.088265</td>\n",
       "      <td>-0.092204</td>\n",
       "      <td>-0.096865</td>\n",
       "      <td>-0.073836</td>\n",
       "      <td>-0.061033</td>\n",
       "      <td>-0.076346</td>\n",
       "      <td>-0.064947</td>\n",
       "      <td>-0.040308</td>\n",
       "    </tr>\n",
       "    <tr>\n",
       "      <th>3</th>\n",
       "      <td>1990-10-31</td>\n",
       "      <td>-0.069505</td>\n",
       "      <td>-0.068426</td>\n",
       "      <td>-0.058894</td>\n",
       "      <td>-0.056602</td>\n",
       "      <td>-0.059119</td>\n",
       "      <td>-0.035776</td>\n",
       "      <td>-0.031598</td>\n",
       "      <td>-0.031873</td>\n",
       "      <td>-0.018185</td>\n",
       "      <td>0.004541</td>\n",
       "    </tr>\n",
       "    <tr>\n",
       "      <th>4</th>\n",
       "      <td>1990-11-30</td>\n",
       "      <td>0.012750</td>\n",
       "      <td>0.040337</td>\n",
       "      <td>0.069238</td>\n",
       "      <td>0.079965</td>\n",
       "      <td>0.094304</td>\n",
       "      <td>0.086550</td>\n",
       "      <td>0.084103</td>\n",
       "      <td>0.095924</td>\n",
       "      <td>0.094806</td>\n",
       "      <td>0.056317</td>\n",
       "    </tr>\n",
       "    <tr>\n",
       "      <th>5</th>\n",
       "      <td>1990-12-31</td>\n",
       "      <td>-0.015409</td>\n",
       "      <td>0.012419</td>\n",
       "      <td>0.034022</td>\n",
       "      <td>0.051225</td>\n",
       "      <td>0.050637</td>\n",
       "      <td>0.048084</td>\n",
       "      <td>0.047256</td>\n",
       "      <td>0.036259</td>\n",
       "      <td>0.037077</td>\n",
       "      <td>0.025331</td>\n",
       "    </tr>\n",
       "  </tbody>\n",
       "</table>\n",
       "</div>"
      ],
      "text/plain": [
       "DECILE       date       1.0       2.0       3.0       4.0       5.0       6.0  \\\n",
       "1      1990-08-31 -0.122496 -0.137856 -0.132280 -0.128708 -0.125367 -0.111318   \n",
       "2      1990-09-28 -0.084969 -0.095266 -0.088265 -0.092204 -0.096865 -0.073836   \n",
       "3      1990-10-31 -0.069505 -0.068426 -0.058894 -0.056602 -0.059119 -0.035776   \n",
       "4      1990-11-30  0.012750  0.040337  0.069238  0.079965  0.094304  0.086550   \n",
       "5      1990-12-31 -0.015409  0.012419  0.034022  0.051225  0.050637  0.048084   \n",
       "\n",
       "DECILE       7.0       8.0       9.0      10.0  \n",
       "1      -0.100984 -0.102078 -0.093154 -0.085146  \n",
       "2      -0.061033 -0.076346 -0.064947 -0.040308  \n",
       "3      -0.031598 -0.031873 -0.018185  0.004541  \n",
       "4       0.084103  0.095924  0.094806  0.056317  \n",
       "5       0.047256  0.036259  0.037077  0.025331  "
      ]
     },
     "execution_count": 121,
     "metadata": {},
     "output_type": "execute_result"
    }
   ],
   "source": [
    "CRSP = (CRSP.sort(['PERMNO','date'])).reset_index(drop=True)\n",
    "CRSP['VW_RET'] = CRSP['RET'] * CRSP['WEIGHT'].shift()  #use shift to get last periods value weight\n",
    "CRSP.VW_RET[CRSP.PERMNO != CRSP.PERMNO.shift()] = np.nan\n",
    "MONTHLY_VW = CRSP.groupby(['date','DECILE'])['VW_RET'].sum()\n",
    "MONTHLY_VW = MONTHLY_VW.unstack('DECILE')\n",
    "MONTHLY_VW = MONTHLY_VW.reset_index(drop=False)\n",
    "MONTHLY_VW = MONTHLY_VW.ix[1:,:]\n",
    "MONTHLY_VW.head()"
   ]
  },
  {
   "cell_type": "markdown",
   "metadata": {},
   "source": [
    "Again, let's check the value weighted returns vs. French's website. I get even closer here than equal weighted. This is driven by the errors likely coming from smaller stocks. As those receive less weight in the value weighted returns. "
   ]
  },
  {
   "cell_type": "code",
   "execution_count": 123,
   "metadata": {
    "collapsed": false
   },
   "outputs": [
    {
     "data": {
      "text/html": [
       "<div>\n",
       "<table border=\"1\" class=\"dataframe\">\n",
       "  <thead>\n",
       "    <tr style=\"text-align: right;\">\n",
       "      <th></th>\n",
       "      <th>date</th>\n",
       "      <th>VW_10</th>\n",
       "      <th>VW_20</th>\n",
       "      <th>VW_30</th>\n",
       "      <th>VW_40</th>\n",
       "      <th>VW_50</th>\n",
       "      <th>VW_60</th>\n",
       "      <th>VW_70</th>\n",
       "      <th>VW_80</th>\n",
       "      <th>VW_90</th>\n",
       "      <th>VW_100</th>\n",
       "    </tr>\n",
       "  </thead>\n",
       "  <tbody>\n",
       "    <tr>\n",
       "      <th>769</th>\n",
       "      <td>199008</td>\n",
       "      <td>-0.1248</td>\n",
       "      <td>-0.1386</td>\n",
       "      <td>-0.1322</td>\n",
       "      <td>-0.1256</td>\n",
       "      <td>-0.1254</td>\n",
       "      <td>-0.1151</td>\n",
       "      <td>-0.1000</td>\n",
       "      <td>-0.1022</td>\n",
       "      <td>-0.0935</td>\n",
       "      <td>-0.0851</td>\n",
       "    </tr>\n",
       "    <tr>\n",
       "      <th>770</th>\n",
       "      <td>199009</td>\n",
       "      <td>-0.0860</td>\n",
       "      <td>-0.0941</td>\n",
       "      <td>-0.0881</td>\n",
       "      <td>-0.0925</td>\n",
       "      <td>-0.0951</td>\n",
       "      <td>-0.0724</td>\n",
       "      <td>-0.0584</td>\n",
       "      <td>-0.0804</td>\n",
       "      <td>-0.0628</td>\n",
       "      <td>-0.0404</td>\n",
       "    </tr>\n",
       "    <tr>\n",
       "      <th>771</th>\n",
       "      <td>199010</td>\n",
       "      <td>-0.0699</td>\n",
       "      <td>-0.0625</td>\n",
       "      <td>-0.0593</td>\n",
       "      <td>-0.0568</td>\n",
       "      <td>-0.0574</td>\n",
       "      <td>-0.0377</td>\n",
       "      <td>-0.0301</td>\n",
       "      <td>-0.0301</td>\n",
       "      <td>-0.0228</td>\n",
       "      <td>0.0052</td>\n",
       "    </tr>\n",
       "    <tr>\n",
       "      <th>772</th>\n",
       "      <td>199011</td>\n",
       "      <td>0.0164</td>\n",
       "      <td>0.0421</td>\n",
       "      <td>0.0676</td>\n",
       "      <td>0.0788</td>\n",
       "      <td>0.0917</td>\n",
       "      <td>0.0896</td>\n",
       "      <td>0.0799</td>\n",
       "      <td>0.0958</td>\n",
       "      <td>0.0969</td>\n",
       "      <td>0.0564</td>\n",
       "    </tr>\n",
       "    <tr>\n",
       "      <th>773</th>\n",
       "      <td>199012</td>\n",
       "      <td>-0.0117</td>\n",
       "      <td>0.0144</td>\n",
       "      <td>0.0321</td>\n",
       "      <td>0.0536</td>\n",
       "      <td>0.0453</td>\n",
       "      <td>0.0499</td>\n",
       "      <td>0.0447</td>\n",
       "      <td>0.0383</td>\n",
       "      <td>0.0403</td>\n",
       "      <td>0.0239</td>\n",
       "    </tr>\n",
       "  </tbody>\n",
       "</table>\n",
       "</div>"
      ],
      "text/plain": [
       "       date   VW_10   VW_20   VW_30   VW_40   VW_50   VW_60   VW_70   VW_80  \\\n",
       "769  199008 -0.1248 -0.1386 -0.1322 -0.1256 -0.1254 -0.1151 -0.1000 -0.1022   \n",
       "770  199009 -0.0860 -0.0941 -0.0881 -0.0925 -0.0951 -0.0724 -0.0584 -0.0804   \n",
       "771  199010 -0.0699 -0.0625 -0.0593 -0.0568 -0.0574 -0.0377 -0.0301 -0.0301   \n",
       "772  199011  0.0164  0.0421  0.0676  0.0788  0.0917  0.0896  0.0799  0.0958   \n",
       "773  199012 -0.0117  0.0144  0.0321  0.0536  0.0453  0.0499  0.0447  0.0383   \n",
       "\n",
       "      VW_90  VW_100  \n",
       "769 -0.0935 -0.0851  \n",
       "770 -0.0628 -0.0404  \n",
       "771 -0.0228  0.0052  \n",
       "772  0.0969  0.0564  \n",
       "773  0.0403  0.0239  "
      ]
     },
     "execution_count": 123,
     "metadata": {},
     "output_type": "execute_result"
    }
   ],
   "source": [
    "FFSMB = FFSMB2.ix[769:1055,:11]\n",
    "FFSMB.head()"
   ]
  },
  {
   "cell_type": "code",
   "execution_count": 124,
   "metadata": {
    "collapsed": false
   },
   "outputs": [
    {
     "name": "stdout",
     "output_type": "stream",
     "text": [
      "  Correlation    Mean           Mean of FF\n",
      "1 0.996830037938 0.140816612871 0.141524738676\n",
      "2 0.996702606086 0.131596939943 0.135420209059\n",
      "3 0.997077072811 0.135095824999 0.137857839721\n",
      "4 0.995261729068 0.129084596853 0.124498954704\n",
      "5 0.996468025987 0.132458029411 0.1350271777\n",
      "6 0.996656098909 0.125579609957 0.134859930314\n",
      "7 0.994176009119 0.136435007752 0.13496445993\n",
      "8 0.994413525673 0.122661015595 0.128583972125\n",
      "9 0.995490572964 0.126908621634 0.126029268293\n",
      "10 0.996267599057 0.0978781967109 0.0994118466899\n"
     ]
    }
   ],
   "source": [
    "print '  Correlation   ','Mean','          Mean of FF'\n",
    "for i in range(1,11):\n",
    "    print i, (np.corrcoef(MONTHLY_VW[i],FFSMB['VW_'+str(i*10)]))[1,0], 12*np.mean(MONTHLY_VW[i]), 12*np.mean((FFSMB['VW_'+str(i*10)]))\n"
   ]
  },
  {
   "cell_type": "code",
   "execution_count": 125,
   "metadata": {
    "collapsed": false
   },
   "outputs": [
    {
     "data": {
      "text/plain": [
       "[<matplotlib.lines.Line2D at 0xe1a44320>]"
      ]
     },
     "execution_count": 125,
     "metadata": {},
     "output_type": "execute_result"
    },
    {
     "data": {
      "image/png": "[encoded data removed]",
      "text/plain": [
       "<matplotlib.figure.Figure at 0xe1a44ba8>"
      ]
     },
     "metadata": {},
     "output_type": "display_data"
    }
   ],
   "source": [
    "plt.plot(MONTHLY_VW['date'],MONTHLY_VW[1])\n",
    "plt.plot(MONTHLY_VW['date'],FFSMB['VW_10'])\n",
    "\n"
   ]
  }
 ],
 "metadata": {
  "kernelspec": {
   "display_name": "Python 2",
   "language": "python",
   "name": "python2"
  },
  "language_info": {
   "codemirror_mode": {
    "name": "ipython",
    "version": 2
   },
   "file_extension": ".py",
   "mimetype": "text/x-python",
   "name": "python",
   "nbconvert_exporter": "python",
   "pygments_lexer": "ipython2",
   "version": "2.7.11"
  }
 },
 "nbformat": 4,
 "nbformat_minor": 0
}

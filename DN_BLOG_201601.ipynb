{
 "cells": [
  {
   "cell_type": "markdown",
   "metadata": {},
   "source": [
    "# Working with Corporate Bond Data in Python"
   ]
  },
  {
   "cell_type": "markdown",
   "metadata": {},
   "source": [
    "<p>\n",
    "The first portion of this post will focus on the opportunity for research in the corporate bond market. The second half utilizes Python to filter and analyze a corporate bond dataset. \n",
    "\n",
    "<p>\n",
    "Harvey Campbell has written eloquently about the multiple comparison problem in asset pricing research - particularly as it pertains to the stock market. Put simply, as more researchers look for trading strategies or factors in a single dataset, it becomes more difficult to determine whether the patterns they find in the data were found due to chance or if they are really there. This problem plagues the equity market where thousands of researchers have poured over the CRSP database. \n",
    "<p>\n",
    "So researchers are left with two options: generate really great back test results in equities or find new markets on which fewer researchers focus. The corporate bond market seems like a natural alternative. This $7tn market has seen massive growth as companies issued bonds under the recent low interest rate regime. In addition, there are fewer systematic strategies that have been discovered. \n",
    "<p>\n",
    "Another advancement in the corporate credit market was the introduction of TRACE in 2002. TRACE came when the NASD mandated that market participants begin reporting transaction data so that it could be publicly disseminated. For the first time, researchers have real transaction data on which to test theories. \n",
    "<p>\n",
    "Market participants in the corporate credit market know that the TRACE database is filled with many mistakes. This was not realized in academia until 2013 when Jan Dick-Neilsen published the second of two papers outlining how to filter mistakes from the TRACE database (See Dick-Nielsen *How to Clean Enhanced Trace Data*). Before that, research was potentially biased because Dick-Neilsen suggests a minimum of 6.5 percent of trades are filtered by his methodology. In addition, in 2012 Peter Feldhutter showed that small trades can bias analysis of transaction data from TRACE. Lastly, many bonds in the TRACE database are not corporate bonds. Combining TRACE with the FISD database allows for the separation of corporate bonds from other asset prices in the dataset. \n",
    "<p>\n",
    "Below, I will implement the 3 filters (Dick-Neilsen, Feldhutter, FISD) in Python on a small group of corporate bonds and calculate the yield-to-maturity for each trade. Implementing this on the entire TRACE database (which I have done) provides a relatively clean dataset for research on systematic strategies in credit. "
   ]
  },
  {
   "cell_type": "markdown",
   "metadata": {},
   "source": [
    "# Import Relevant Packages"
   ]
  },
  {
   "cell_type": "code",
   "execution_count": null,
   "metadata": {
    "collapsed": false
   },
   "outputs": [],
   "source": [
    "import pandas as pd\n",
    "from pandas import *\n",
    "import pylab as plt\n",
    "from pylab import *\n",
    "import numpy as np\n",
    "import csv as csv\n",
    "import warnings\n",
    "warnings.filterwarnings('ignore')\n",
    "import scipy as scipy\n",
    "from scipy import *\n",
    "import matplotlib\n",
    "%matplotlib inline\n",
    "import statsmodels.api as sm\n",
    "from statsmodels import *\n",
    "import os\n",
    "\n",
    "def side_by_side(*objs, **kwds):\n",
    "    from pandas.core.common import adjoin\n",
    "    space = kwds.get('space', 4)\n",
    "    reprs = [repr(obj).split('\\n') for obj in objs]\n",
    "    print adjoin(space, *reprs)"
   ]
  },
  {
   "cell_type": "markdown",
   "metadata": {},
   "source": [
    "\n",
    "# Importing FISD"
   ]
  },
  {
   "cell_type": "markdown",
   "metadata": {},
   "source": [
    "\n",
    "FISD provides issue level data like type of security, offering date, offering price and coupon. This CSV comes from WRDS. It includes 350,000 assets. I show the types of information included in the dataset below. "
   ]
  },
  {
   "cell_type": "code",
   "execution_count": 2,
   "metadata": {
    "collapsed": false
   },
   "outputs": [
    {
     "name": "stdout",
     "output_type": "stream",
     "text": [
      "Issues in FISD 350063\n",
      "Index([u'PROSPECTUS_ISSUER_NAME', u'ISSUER_CUSIP', u'ISSUE_CUSIP', u'MATURITY',\n",
      "       u'COUPON_TYPE', u'CONVERTIBLE', u'ASSET_BACKED', u'CANADIAN', u'OID',\n",
      "       u'FOREIGN_CURRENCY', u'OFFERING_AMT', u'OFFERING_DATE',\n",
      "       u'OFFERING_PRICE', u'DELIVERY_DATE', u'PRINCIPAL_AMT', u'COVENANTS',\n",
      "       u'DEFAULTED', u'ANNOUNCED_CALL', u'ACTIVE_ISSUE', u'BOND_TYPE',\n",
      "       u'PERPETUAL', u'EXCHANGEABLE', u'PREFERRED_SECURITY', u'COMPLETE_CUSIP',\n",
      "       u'FIX_FREQUENCY', u'RESET_DATE', u'RESET_DATE_ORIG',\n",
      "       u'FIRST_INTEREST_DATE', u'INTEREST_FREQUENCY', u'COUPON',\n",
      "       u'COUPON_CHANGE_INDICATOR', u'LAST_INTEREST_DATE', u'CUSIP_NAME',\n",
      "       u'INDUSTRY_GROUP', u'INDUSTRY_CODE', u'PARENT_ID', u'NAICS_CODE',\n",
      "       u'SIC_CODE'],\n",
      "      dtype='object')\n"
     ]
    }
   ],
   "source": [
    "fisd_main =read_csv('FISD Bond Data.csv')\n",
    "print 'Issues in FISD', len(fisd_main)\n",
    "print fisd_main.columns"
   ]
  },
  {
   "cell_type": "markdown",
   "metadata": {},
   "source": [
    "I take a subset of the data. There is nothing special about the bonds chosen other than they represent a relatively diverse set of corporate bonds. Then I show the head of the dataset for context. "
   ]
  },
  {
   "cell_type": "code",
   "execution_count": 3,
   "metadata": {
    "collapsed": false
   },
   "outputs": [
    {
     "name": "stdout",
     "output_type": "stream",
     "text": [
      "350063\n",
      "37\n",
      "37\n"
     ]
    }
   ],
   "source": [
    "print len(fisd_main)\n",
    "cusip_list = ['17453BAF8','17453BAJ0','873168AM0','873168AP3','873168AN8','873168AQ1','451663AA6',\n",
    "              '816752AA7','451663AC2','800907AL1','800907AN7','882330AA1','882330AC7','458204AD6',\n",
    "              '458204AF1','184502AZ5','882330AF0','882330AG8','184502BC5','184502BB7','184502BE1',\n",
    "              '97314XAE4','780097AW1','97315LAA7','458204AH7','458204AJ3','69545QAA7','184502BF8',\n",
    "              '695459AF4','89255MAA4','184502BG6','18451QAF5','18451QAE8','18451QAH1','18451QAG3',\n",
    "              '18451QAK4','18451QAJ7']\n",
    "fisd_main = fisd_main[fisd_main['COMPLETE_CUSIP'].isin(cusip_list)]\n",
    "print len(cusip_list)\n",
    "print len(fisd_main)"
   ]
  },
  {
   "cell_type": "code",
   "execution_count": 4,
   "metadata": {
    "collapsed": false,
    "scrolled": true
   },
   "outputs": [
    {
     "data": {
      "text/html": [
       "<div>\n",
       "<table border=\"1\" class=\"dataframe\">\n",
       "  <thead>\n",
       "    <tr style=\"text-align: right;\">\n",
       "      <th></th>\n",
       "      <th>PROSPECTUS_ISSUER_NAME</th>\n",
       "      <th>ISSUER_CUSIP</th>\n",
       "      <th>ISSUE_CUSIP</th>\n",
       "      <th>MATURITY</th>\n",
       "      <th>COUPON_TYPE</th>\n",
       "      <th>CONVERTIBLE</th>\n",
       "      <th>ASSET_BACKED</th>\n",
       "      <th>CANADIAN</th>\n",
       "      <th>OID</th>\n",
       "      <th>FOREIGN_CURRENCY</th>\n",
       "      <th>...</th>\n",
       "      <th>INTEREST_FREQUENCY</th>\n",
       "      <th>COUPON</th>\n",
       "      <th>COUPON_CHANGE_INDICATOR</th>\n",
       "      <th>LAST_INTEREST_DATE</th>\n",
       "      <th>CUSIP_NAME</th>\n",
       "      <th>INDUSTRY_GROUP</th>\n",
       "      <th>INDUSTRY_CODE</th>\n",
       "      <th>PARENT_ID</th>\n",
       "      <th>NAICS_CODE</th>\n",
       "      <th>SIC_CODE</th>\n",
       "    </tr>\n",
       "  </thead>\n",
       "  <tbody>\n",
       "    <tr>\n",
       "      <th>102984</th>\n",
       "      <td>CITIZENS COMMUNICATIONS CO</td>\n",
       "      <td>17453B</td>\n",
       "      <td>AF8</td>\n",
       "      <td>2031/08/15</td>\n",
       "      <td>F</td>\n",
       "      <td>N</td>\n",
       "      <td>N</td>\n",
       "      <td>N</td>\n",
       "      <td>N</td>\n",
       "      <td>N</td>\n",
       "      <td>...</td>\n",
       "      <td>2</td>\n",
       "      <td>9.00</td>\n",
       "      <td>N</td>\n",
       "      <td>20310215</td>\n",
       "      <td>CITIZENS COMMUNICATIONS CO</td>\n",
       "      <td>1</td>\n",
       "      <td>11</td>\n",
       "      <td>920</td>\n",
       "      <td>51711</td>\n",
       "      <td>4813</td>\n",
       "    </tr>\n",
       "    <tr>\n",
       "      <th>113682</th>\n",
       "      <td>CITIZENS COMMUNICATIONS CO</td>\n",
       "      <td>17453B</td>\n",
       "      <td>AJ0</td>\n",
       "      <td>2031/08/15</td>\n",
       "      <td>F</td>\n",
       "      <td>N</td>\n",
       "      <td>N</td>\n",
       "      <td>N</td>\n",
       "      <td>N</td>\n",
       "      <td>N</td>\n",
       "      <td>...</td>\n",
       "      <td>2</td>\n",
       "      <td>9.00</td>\n",
       "      <td>N</td>\n",
       "      <td>20310215</td>\n",
       "      <td>CITIZENS COMMUNICATIONS CO</td>\n",
       "      <td>1</td>\n",
       "      <td>11</td>\n",
       "      <td>920</td>\n",
       "      <td>51711</td>\n",
       "      <td>4813</td>\n",
       "    </tr>\n",
       "    <tr>\n",
       "      <th>169787</th>\n",
       "      <td>TXU CORP</td>\n",
       "      <td>873168</td>\n",
       "      <td>AM0</td>\n",
       "      <td>2024/11/15</td>\n",
       "      <td>F</td>\n",
       "      <td>N</td>\n",
       "      <td>N</td>\n",
       "      <td>N</td>\n",
       "      <td>N</td>\n",
       "      <td>N</td>\n",
       "      <td>...</td>\n",
       "      <td>2</td>\n",
       "      <td>6.50</td>\n",
       "      <td>N</td>\n",
       "      <td>20240515</td>\n",
       "      <td>TXU CORP</td>\n",
       "      <td>3</td>\n",
       "      <td>30</td>\n",
       "      <td>49869</td>\n",
       "      <td>221122</td>\n",
       "      <td>4911</td>\n",
       "    </tr>\n",
       "    <tr>\n",
       "      <th>169788</th>\n",
       "      <td>TXU CORP</td>\n",
       "      <td>873168</td>\n",
       "      <td>AP3</td>\n",
       "      <td>2034/11/15</td>\n",
       "      <td>F</td>\n",
       "      <td>N</td>\n",
       "      <td>N</td>\n",
       "      <td>N</td>\n",
       "      <td>N</td>\n",
       "      <td>N</td>\n",
       "      <td>...</td>\n",
       "      <td>2</td>\n",
       "      <td>6.55</td>\n",
       "      <td>N</td>\n",
       "      <td>20340515</td>\n",
       "      <td>TXU CORP</td>\n",
       "      <td>3</td>\n",
       "      <td>30</td>\n",
       "      <td>49869</td>\n",
       "      <td>221122</td>\n",
       "      <td>4911</td>\n",
       "    </tr>\n",
       "    <tr>\n",
       "      <th>181745</th>\n",
       "      <td>TXU CORP</td>\n",
       "      <td>873168</td>\n",
       "      <td>AN8</td>\n",
       "      <td>2024/11/15</td>\n",
       "      <td>F</td>\n",
       "      <td>N</td>\n",
       "      <td>N</td>\n",
       "      <td>N</td>\n",
       "      <td>N</td>\n",
       "      <td>N</td>\n",
       "      <td>...</td>\n",
       "      <td>2</td>\n",
       "      <td>6.50</td>\n",
       "      <td>N</td>\n",
       "      <td>20240515</td>\n",
       "      <td>TXU CORP</td>\n",
       "      <td>3</td>\n",
       "      <td>30</td>\n",
       "      <td>49869</td>\n",
       "      <td>221122</td>\n",
       "      <td>4911</td>\n",
       "    </tr>\n",
       "  </tbody>\n",
       "</table>\n",
       "<p>5 rows × 38 columns</p>\n",
       "</div>"
      ],
      "text/plain": [
       "            PROSPECTUS_ISSUER_NAME ISSUER_CUSIP ISSUE_CUSIP    MATURITY  \\\n",
       "102984  CITIZENS COMMUNICATIONS CO       17453B         AF8  2031/08/15   \n",
       "113682  CITIZENS COMMUNICATIONS CO       17453B         AJ0  2031/08/15   \n",
       "169787                    TXU CORP       873168         AM0  2024/11/15   \n",
       "169788                    TXU CORP       873168         AP3  2034/11/15   \n",
       "181745                    TXU CORP       873168         AN8  2024/11/15   \n",
       "\n",
       "       COUPON_TYPE CONVERTIBLE ASSET_BACKED CANADIAN OID FOREIGN_CURRENCY  \\\n",
       "102984           F           N            N        N   N                N   \n",
       "113682           F           N            N        N   N                N   \n",
       "169787           F           N            N        N   N                N   \n",
       "169788           F           N            N        N   N                N   \n",
       "181745           F           N            N        N   N                N   \n",
       "\n",
       "         ...     INTEREST_FREQUENCY COUPON  COUPON_CHANGE_INDICATOR  \\\n",
       "102984   ...                      2   9.00                        N   \n",
       "113682   ...                      2   9.00                        N   \n",
       "169787   ...                      2   6.50                        N   \n",
       "169788   ...                      2   6.55                        N   \n",
       "181745   ...                      2   6.50                        N   \n",
       "\n",
       "       LAST_INTEREST_DATE                  CUSIP_NAME INDUSTRY_GROUP  \\\n",
       "102984           20310215  CITIZENS COMMUNICATIONS CO              1   \n",
       "113682           20310215  CITIZENS COMMUNICATIONS CO              1   \n",
       "169787           20240515                    TXU CORP              3   \n",
       "169788           20340515                    TXU CORP              3   \n",
       "181745           20240515                    TXU CORP              3   \n",
       "\n",
       "       INDUSTRY_CODE PARENT_ID NAICS_CODE SIC_CODE  \n",
       "102984            11       920      51711     4813  \n",
       "113682            11       920      51711     4813  \n",
       "169787            30     49869     221122     4911  \n",
       "169788            30     49869     221122     4911  \n",
       "181745            30     49869     221122     4911  \n",
       "\n",
       "[5 rows x 38 columns]"
      ]
     },
     "execution_count": 4,
     "metadata": {},
     "output_type": "execute_result"
    }
   ],
   "source": [
    "fisd_main.head()"
   ]
  },
  {
   "cell_type": "markdown",
   "metadata": {},
   "source": [
    "Next I filter based on the FISD universe. Since the bonds chosen above were all corporate bonds, only 3 of 37 will be filtered. In filtering the entire TRACE universe, you can utilize roughly 20 fields in the FISD dataset to separate undesirable bonds. "
   ]
  },
  {
   "cell_type": "code",
   "execution_count": 5,
   "metadata": {
    "collapsed": false
   },
   "outputs": [
    {
     "name": "stdout",
     "output_type": "stream",
     "text": [
      "Issues in FISD 37\n",
      "37\n",
      "37\n",
      "Issues in FISD 37\n"
     ]
    }
   ],
   "source": [
    "print 'Issues in FISD', len(fisd_main)\n",
    "fisd_main = fisd_main[(fisd_main['BOND_TYPE'] =='CDEB') | (fisd_main['BOND_TYPE'] =='CPIK') |\n",
    "                      (fisd_main['BOND_TYPE'] =='CZ') | (fisd_main['BOND_TYPE'] =='CS')]\n",
    "\n",
    "fisd_main = fisd_main[fisd_main['FOREIGN_CURRENCY'] =='N']\n",
    "print len(fisd_main)\n",
    "\n",
    "fisd_main['CUSIP_ID'] = fisd_main['ISSUER_CUSIP'] + fisd_main['ISSUE_CUSIP']\n",
    "good_cusips = DataFrame(fisd_main['CUSIP_ID'])\n",
    "good_cusips['IDENTIFIER'] = 1\n",
    "\n",
    "print len(good_cusips)\n",
    "print 'Issues in FISD', len(fisd_main)"
   ]
  },
  {
   "cell_type": "markdown",
   "metadata": {},
   "source": [
    "# Importing the TRACE database"
   ]
  },
  {
   "cell_type": "markdown",
   "metadata": {},
   "source": [
    "Here I import the relevant columns from the TRACE dataset. It represents 91mm trades and 90m unique cusips. "
   ]
  },
  {
   "cell_type": "code",
   "execution_count": 6,
   "metadata": {
    "collapsed": false,
    "scrolled": true
   },
   "outputs": [
    {
     "data": {
      "text/html": [
       "<div>\n",
       "<table border=\"1\" class=\"dataframe\">\n",
       "  <thead>\n",
       "    <tr style=\"text-align: right;\">\n",
       "      <th></th>\n",
       "      <th>CUSIP_ID</th>\n",
       "      <th>TRD_EXCTN_DT</th>\n",
       "      <th>TRD_EXCTN_TM</th>\n",
       "      <th>MSG_SEQ_NB</th>\n",
       "      <th>TRC_ST</th>\n",
       "      <th>ASCII_RPTD_VOL_TX</th>\n",
       "      <th>RPTD_PR</th>\n",
       "      <th>ASOF_CD</th>\n",
       "      <th>ORIG_MSG_SEQ_NB</th>\n",
       "    </tr>\n",
       "  </thead>\n",
       "  <tbody>\n",
       "    <tr>\n",
       "      <th>0</th>\n",
       "      <td>G7603ZAC5</td>\n",
       "      <td>2011/04/26</td>\n",
       "      <td>20:25:05</td>\n",
       "      <td>8555</td>\n",
       "      <td>G</td>\n",
       "      <td>1000000</td>\n",
       "      <td>100.125</td>\n",
       "      <td>A</td>\n",
       "      <td>NaN</td>\n",
       "    </tr>\n",
       "    <tr>\n",
       "      <th>1</th>\n",
       "      <td>05530RAB4</td>\n",
       "      <td>2012/01/24</td>\n",
       "      <td>15:09:34</td>\n",
       "      <td>30364</td>\n",
       "      <td>G</td>\n",
       "      <td>4000000</td>\n",
       "      <td>70.250</td>\n",
       "      <td>A</td>\n",
       "      <td>NaN</td>\n",
       "    </tr>\n",
       "    <tr>\n",
       "      <th>2</th>\n",
       "      <td>05530RAB4</td>\n",
       "      <td>2012/01/27</td>\n",
       "      <td>10:55:24</td>\n",
       "      <td>30365</td>\n",
       "      <td>G</td>\n",
       "      <td>42000</td>\n",
       "      <td>75.750</td>\n",
       "      <td>A</td>\n",
       "      <td>NaN</td>\n",
       "    </tr>\n",
       "    <tr>\n",
       "      <th>3</th>\n",
       "      <td>77586TAA4</td>\n",
       "      <td>2012/02/01</td>\n",
       "      <td>8:14:06</td>\n",
       "      <td>6200</td>\n",
       "      <td>G</td>\n",
       "      <td>500000</td>\n",
       "      <td>100.150</td>\n",
       "      <td>A</td>\n",
       "      <td>NaN</td>\n",
       "    </tr>\n",
       "    <tr>\n",
       "      <th>4</th>\n",
       "      <td>77586TAA4</td>\n",
       "      <td>2012/02/01</td>\n",
       "      <td>12:06:00</td>\n",
       "      <td>13476</td>\n",
       "      <td>H</td>\n",
       "      <td>200000</td>\n",
       "      <td>100.100</td>\n",
       "      <td>A</td>\n",
       "      <td>19490</td>\n",
       "    </tr>\n",
       "  </tbody>\n",
       "</table>\n",
       "</div>"
      ],
      "text/plain": [
       "    CUSIP_ID TRD_EXCTN_DT TRD_EXCTN_TM  MSG_SEQ_NB TRC_ST ASCII_RPTD_VOL_TX  \\\n",
       "0  G7603ZAC5   2011/04/26     20:25:05        8555      G           1000000   \n",
       "1  05530RAB4   2012/01/24     15:09:34       30364      G           4000000   \n",
       "2  05530RAB4   2012/01/27     10:55:24       30365      G             42000   \n",
       "3  77586TAA4   2012/02/01      8:14:06        6200      G            500000   \n",
       "4  77586TAA4   2012/02/01     12:06:00       13476      H            200000   \n",
       "\n",
       "   RPTD_PR ASOF_CD  ORIG_MSG_SEQ_NB  \n",
       "0  100.125       A              NaN  \n",
       "1   70.250       A              NaN  \n",
       "2   75.750       A              NaN  \n",
       "3  100.150       A              NaN  \n",
       "4  100.100       A            19490  "
      ]
     },
     "execution_count": 6,
     "metadata": {},
     "output_type": "execute_result"
    }
   ],
   "source": [
    "trace =read_csv('TRACE ALL.csv',\n",
    "                usecols = ['CUSIP_ID', 'TRD_EXCTN_DT','TRD_EXCTN_TM','MSG_SEQ_NB',\n",
    "                'TRC_ST','ASCII_RPTD_VOL_TX','RPTD_PR','ASOF_CD','ORIG_MSG_SEQ_NB'])\n",
    "trace.head()"
   ]
  },
  {
   "cell_type": "markdown",
   "metadata": {},
   "source": [
    "TRACE COLUMN KEY (for details see the *TRACE User Guide* and the *TRACE Variable Guide*)\n",
    "1. CUSIP_ID = Bond CUSIP or unique identifier\n",
    "2. TRD_EXCTN_DT = Trade Date\n",
    "3. TRD_EXCTN_TM = Trade Time\n",
    "4. MSG_SEQ_NB = Identifier assigned to each trade. Not necessarily unique. \n",
    "5. TRC_ST = First Good/Bad Trade Identifier. Identifies mistakes fixed on mistaken trade's execution date. \n",
    "6. ASCII_RPTD_VOL_TX = Trade Volume. Max of 5MM for IG bonds and 1MM for HY bonds.\n",
    "7. RPTD_PR = Trading Price\n",
    "8. ASOF_CD = Second Good/Bad Trade Identifier. Identifies trade errors fixed after the mistaken trade's execution date.  \n",
    "9. ORIG_MSG_SEQ_NB = MSG_SEQ_NB of the mistaken trade from the same date. Paired with TRC_ST."
   ]
  },
  {
   "cell_type": "code",
   "execution_count": 7,
   "metadata": {
    "collapsed": false
   },
   "outputs": [
    {
     "name": "stdout",
     "output_type": "stream",
     "text": [
      "unique trace cusips   90839\n",
      "total trades          91555441\n",
      "unique fisd len       37 (same as above)\n"
     ]
    }
   ],
   "source": [
    "print 'unique trace cusips  ',len(trace['CUSIP_ID'].unique())\n",
    "print 'total trades         ',len(trace)\n",
    "print 'unique fisd len      ',len(good_cusips),'(same as above)'"
   ]
  },
  {
   "cell_type": "markdown",
   "metadata": {},
   "source": [
    "# Applying the FISD filter to TRACE"
   ]
  },
  {
   "cell_type": "markdown",
   "metadata": {},
   "source": [
    "Inner merge the TRACE database with the good CUSIPs from the FISD database and we will be left with the bonds that exist in both datasets. Only 15 overlap because a large portion of the bonds above were 144a before those were included in TRACE. 144a issues have recently been added. \n",
    "\n",
    "There are roughly 117m trades between the 15 bonds. The last line of code generates the head of the dataset for context. "
   ]
  },
  {
   "cell_type": "code",
   "execution_count": 8,
   "metadata": {
    "collapsed": true
   },
   "outputs": [],
   "source": [
    "trace = merge(trace,good_cusips,on=['CUSIP_ID'],how = 'inner')\n",
    "trace = trace[notnull(trace['RPTD_PR'])]"
   ]
  },
  {
   "cell_type": "code",
   "execution_count": 9,
   "metadata": {
    "collapsed": false
   },
   "outputs": [
    {
     "name": "stdout",
     "output_type": "stream",
     "text": [
      "Unique CUSIPs in overlapping TRACE/FISD datasets 15\n",
      "Unique Trades 117262\n"
     ]
    },
    {
     "data": {
      "text/html": [
       "<div>\n",
       "<table border=\"1\" class=\"dataframe\">\n",
       "  <thead>\n",
       "    <tr style=\"text-align: right;\">\n",
       "      <th></th>\n",
       "      <th>CUSIP_ID</th>\n",
       "      <th>TRD_EXCTN_DT</th>\n",
       "      <th>TRD_EXCTN_TM</th>\n",
       "      <th>MSG_SEQ_NB</th>\n",
       "      <th>TRC_ST</th>\n",
       "      <th>ASCII_RPTD_VOL_TX</th>\n",
       "      <th>RPTD_PR</th>\n",
       "      <th>ASOF_CD</th>\n",
       "      <th>ORIG_MSG_SEQ_NB</th>\n",
       "      <th>IDENTIFIER</th>\n",
       "    </tr>\n",
       "  </thead>\n",
       "  <tbody>\n",
       "    <tr>\n",
       "      <th>0</th>\n",
       "      <td>184502BB7</td>\n",
       "      <td>2012/03/15</td>\n",
       "      <td>14:03:27</td>\n",
       "      <td>29339</td>\n",
       "      <td>G</td>\n",
       "      <td>1MM+</td>\n",
       "      <td>77.75</td>\n",
       "      <td>NaN</td>\n",
       "      <td>NaN</td>\n",
       "      <td>1</td>\n",
       "    </tr>\n",
       "    <tr>\n",
       "      <th>1</th>\n",
       "      <td>184502BB7</td>\n",
       "      <td>2012/03/15</td>\n",
       "      <td>15:13:02</td>\n",
       "      <td>37180</td>\n",
       "      <td>G</td>\n",
       "      <td>1MM+</td>\n",
       "      <td>78.00</td>\n",
       "      <td>NaN</td>\n",
       "      <td>NaN</td>\n",
       "      <td>1</td>\n",
       "    </tr>\n",
       "    <tr>\n",
       "      <th>2</th>\n",
       "      <td>184502BB7</td>\n",
       "      <td>2012/03/15</td>\n",
       "      <td>15:56:16</td>\n",
       "      <td>43642</td>\n",
       "      <td>G</td>\n",
       "      <td>1MM+</td>\n",
       "      <td>78.25</td>\n",
       "      <td>NaN</td>\n",
       "      <td>NaN</td>\n",
       "      <td>1</td>\n",
       "    </tr>\n",
       "    <tr>\n",
       "      <th>3</th>\n",
       "      <td>184502BB7</td>\n",
       "      <td>2012/03/16</td>\n",
       "      <td>11:46:51</td>\n",
       "      <td>15642</td>\n",
       "      <td>G</td>\n",
       "      <td>1000000</td>\n",
       "      <td>78.50</td>\n",
       "      <td>NaN</td>\n",
       "      <td>NaN</td>\n",
       "      <td>1</td>\n",
       "    </tr>\n",
       "    <tr>\n",
       "      <th>4</th>\n",
       "      <td>184502BB7</td>\n",
       "      <td>2012/03/19</td>\n",
       "      <td>13:08:32</td>\n",
       "      <td>22147</td>\n",
       "      <td>G</td>\n",
       "      <td>1000000</td>\n",
       "      <td>78.75</td>\n",
       "      <td>NaN</td>\n",
       "      <td>NaN</td>\n",
       "      <td>1</td>\n",
       "    </tr>\n",
       "  </tbody>\n",
       "</table>\n",
       "</div>"
      ],
      "text/plain": [
       "    CUSIP_ID TRD_EXCTN_DT TRD_EXCTN_TM  MSG_SEQ_NB TRC_ST ASCII_RPTD_VOL_TX  \\\n",
       "0  184502BB7   2012/03/15     14:03:27       29339      G              1MM+   \n",
       "1  184502BB7   2012/03/15     15:13:02       37180      G              1MM+   \n",
       "2  184502BB7   2012/03/15     15:56:16       43642      G              1MM+   \n",
       "3  184502BB7   2012/03/16     11:46:51       15642      G           1000000   \n",
       "4  184502BB7   2012/03/19     13:08:32       22147      G           1000000   \n",
       "\n",
       "   RPTD_PR ASOF_CD  ORIG_MSG_SEQ_NB  IDENTIFIER  \n",
       "0    77.75     NaN              NaN           1  \n",
       "1    78.00     NaN              NaN           1  \n",
       "2    78.25     NaN              NaN           1  \n",
       "3    78.50     NaN              NaN           1  \n",
       "4    78.75     NaN              NaN           1  "
      ]
     },
     "execution_count": 9,
     "metadata": {},
     "output_type": "execute_result"
    }
   ],
   "source": [
    "print 'Unique CUSIPs in overlapping TRACE/FISD datasets',len(trace['CUSIP_ID'].unique())\n",
    "print 'Unique Trades',len(trace)\n",
    "\n",
    "trace.head()"
   ]
  },
  {
   "cell_type": "markdown",
   "metadata": {},
   "source": [
    "# Cleaning up TRACE datatypes"
   ]
  },
  {
   "cell_type": "markdown",
   "metadata": {},
   "source": [
    "I clean up a few datatype issues in the TRACE dataset. "
   ]
  },
  {
   "cell_type": "code",
   "execution_count": 10,
   "metadata": {
    "collapsed": false
   },
   "outputs": [
    {
     "data": {
      "text/plain": [
       "CUSIP_ID              object\n",
       "TRD_EXCTN_DT          object\n",
       "TRD_EXCTN_TM          object\n",
       "MSG_SEQ_NB             int64\n",
       "TRC_ST                object\n",
       "ASCII_RPTD_VOL_TX     object\n",
       "RPTD_PR              float64\n",
       "ASOF_CD               object\n",
       "ORIG_MSG_SEQ_NB      float64\n",
       "IDENTIFIER             int64\n",
       "dtype: object"
      ]
     },
     "execution_count": 10,
     "metadata": {},
     "output_type": "execute_result"
    }
   ],
   "source": [
    "trace.dtypes"
   ]
  },
  {
   "cell_type": "code",
   "execution_count": 11,
   "metadata": {
    "collapsed": false
   },
   "outputs": [
    {
     "name": "stdout",
     "output_type": "stream",
     "text": [
      "Dataset runs from 2004-09-14 00:00:00 to 2014-06-30 00:00:00\n"
     ]
    }
   ],
   "source": [
    "#changing date to datetime\n",
    "trace['TRD_EXCTN_DT'] = trace.TRD_EXCTN_DT.str[:4] + '-' + trace.TRD_EXCTN_DT.str[5:7] + '-' + trace.TRD_EXCTN_DT.str[8:10]\n",
    "trace['TRD_EXCTN_DT'] = to_datetime(trace['TRD_EXCTN_DT'])\n",
    "print 'Dataset runs from', trace['TRD_EXCTN_DT'].min(), 'to', trace['TRD_EXCTN_DT'].max()"
   ]
  },
  {
   "cell_type": "code",
   "execution_count": 12,
   "metadata": {
    "collapsed": false
   },
   "outputs": [
    {
     "data": {
      "text/plain": [
       "(117262,\n",
       " array([nan, 'A', 'R', 'D', 'X'], dtype=object),\n",
       " array(['G', 'I', 'H', 'T', 'C', 'W'], dtype=object))"
      ]
     },
     "execution_count": 12,
     "metadata": {},
     "output_type": "execute_result"
    }
   ],
   "source": [
    "#changing trade size format so we can operate on sizes as floats\n",
    "trace.ASCII_RPTD_VOL_TX[trace.ASCII_RPTD_VOL_TX =='1MM+' ] =  1000005\n",
    "trace.ASCII_RPTD_VOL_TX[trace.ASCII_RPTD_VOL_TX =='5MM+' ] =  5000005\n",
    "trace['ASCII_RPTD_VOL_TX'] = trace['ASCII_RPTD_VOL_TX'].astype(float)\n",
    "len(trace), trace.ASOF_CD.unique(), trace.TRC_ST.unique()"
   ]
  },
  {
   "cell_type": "code",
   "execution_count": 13,
   "metadata": {
    "collapsed": false
   },
   "outputs": [
    {
     "data": {
      "text/plain": [
       "CUSIP_ID                     object\n",
       "TRD_EXCTN_DT         datetime64[ns]\n",
       "TRD_EXCTN_TM                 object\n",
       "MSG_SEQ_NB                    int64\n",
       "TRC_ST                       object\n",
       "ASCII_RPTD_VOL_TX           float64\n",
       "RPTD_PR                     float64\n",
       "ASOF_CD                      object\n",
       "ORIG_MSG_SEQ_NB             float64\n",
       "IDENTIFIER                    int64\n",
       "dtype: object"
      ]
     },
     "execution_count": 13,
     "metadata": {},
     "output_type": "execute_result"
    }
   ],
   "source": [
    "trace.dtypes"
   ]
  },
  {
   "cell_type": "markdown",
   "metadata": {},
   "source": [
    "# Applying Dick-Nielsen - Part 1"
   ]
  },
  {
   "cell_type": "markdown",
   "metadata": {},
   "source": [
    "The first part of the filter deletes trades that were canceled on the same day as the original transaciton. Same day cancels are identified by the TRC_ST column. \n",
    "\n",
    "The logic is:\n",
    "\n",
    "1. If TRC_ST = H or C then delete it\n",
    "  1. Also delete the trade from that day whose MSG_SEQ_NB equals the deleted H or C trade's ORIG_MSG_SEQ_NB\n",
    "2. IF TRC_ST = I or W, then delete the I or W trade. \n",
    "  1. I or W means that the original trade was updated to reflect the error so deleting this fixes the problem. "
   ]
  },
  {
   "cell_type": "code",
   "execution_count": 14,
   "metadata": {
    "collapsed": false
   },
   "outputs": [
    {
     "name": "stdout",
     "output_type": "stream",
     "text": [
      "pre filter length 117262\n",
      "post I/W delete length 117262\n",
      "final length 110858\n"
     ]
    }
   ],
   "source": [
    "trace_len_pre_filter = len(trace)\n",
    "print 'pre filter length', trace_len_pre_filter\n",
    "\n",
    "#delete I/W\n",
    "trace = trace[(trace['TRC_ST'] != 'I')&(trace['TRC_ST'] != 'W')]\n",
    "print 'post I/W delete length', trace_len_pre_filter\n",
    "\n",
    "#create dataframe of H/C trades\n",
    "trace_same_day_cancel = trace[(trace['TRC_ST'] == 'H') | (trace['TRC_ST'] == 'C')]\n",
    "trace_same_day_cancel = trace_same_day_cancel[['CUSIP_ID','TRD_EXCTN_DT','ORIG_MSG_SEQ_NB']]\n",
    "trace_same_day_cancel['CANCEL_TRD'] = 1\n",
    "trace_same_day_cancel = trace_same_day_cancel.rename(columns={'ORIG_MSG_SEQ_NB':'MSG_SEQ_NB'})\n",
    "\n",
    "trace = merge(trace,trace_same_day_cancel,on=['CUSIP_ID','TRD_EXCTN_DT','MSG_SEQ_NB'],how = 'outer')\n",
    "trace = trace[(trace['TRC_ST'] != 'H') & (trace['TRC_ST'] != 'C')]\n",
    "trace = trace[notnull(trace['TRC_ST'])]\n",
    "trace = trace[(trace['CANCEL_TRD'] != 1)]\n",
    "trace = trace[(notnull(trace['TRD_EXCTN_DT']))]\n",
    "trace.drop(['TRC_ST', 'CANCEL_TRD', 'ORIG_MSG_SEQ_NB'], axis=1,inplace = True)\n",
    "#len trace should decline by> trace_same_day_cancel\n",
    "print 'final length', len(trace)"
   ]
  },
  {
   "cell_type": "markdown",
   "metadata": {
    "collapsed": true
   },
   "source": [
    "# Applying Dick-Neilsen - Part 2"
   ]
  },
  {
   "cell_type": "markdown",
   "metadata": {},
   "source": [
    "The second part of the filter deletes trades that were canceled on day different from the original transaction. Different day cancels are identified by the ASOF_CD column. \n",
    "\n",
    "The logic is:\n",
    "\n",
    "1. If ASOF_CD = X then delete\n",
    "  1. Canceled trade\n",
    "2. If ASOF_CD = R, then \n",
    "  1. Delete R trade \n",
    "  2. Delete prior day trade with same CUSIP/price/size"
   ]
  },
  {
   "cell_type": "code",
   "execution_count": 15,
   "metadata": {
    "collapsed": false
   },
   "outputs": [
    {
     "name": "stdout",
     "output_type": "stream",
     "text": [
      "110858\n",
      "104640\n"
     ]
    }
   ],
   "source": [
    "#filter part 2 - different days\n",
    "print len(trace)\n",
    "trace = trace[(trace['ASOF_CD'] != 'X')]\n",
    "\n",
    "trace_diff_day_cancel = trace[(trace['ASOF_CD'] == 'R')]\n",
    "trace = trace[(trace['ASOF_CD'] != 'R')]\n",
    "\n",
    "trace_diff_day_cancel = trace_diff_day_cancel[['CUSIP_ID','RPTD_PR','ASCII_RPTD_VOL_TX']]\n",
    "trace_diff_day_cancel['CANCEL_TRD'] = 1\n",
    "\n",
    "trace = merge(trace,trace_diff_day_cancel,on=['CUSIP_ID','RPTD_PR','ASCII_RPTD_VOL_TX'],how = 'outer')\n",
    "trace = trace[(trace['ASOF_CD'] != 'R')]\n",
    "trace = trace[(trace['CANCEL_TRD'] != 1)]\n",
    "trace = trace[(notnull(trace['TRD_EXCTN_TM']))]\n",
    "trace.drop(['ASOF_CD', 'CANCEL_TRD'], axis=1,inplace = True)\n",
    "print len(trace)"
   ]
  },
  {
   "cell_type": "markdown",
   "metadata": {},
   "source": [
    "Dick-Nielsen proposes a third portion of his filter. It's effectively various miscellaneous issues I find superfluous. I do not show it in this post. "
   ]
  },
  {
   "cell_type": "code",
   "execution_count": 16,
   "metadata": {
    "collapsed": false
   },
   "outputs": [
    {
     "data": {
      "text/html": [
       "<div>\n",
       "<table border=\"1\" class=\"dataframe\">\n",
       "  <thead>\n",
       "    <tr style=\"text-align: right;\">\n",
       "      <th></th>\n",
       "      <th>CUSIP_ID</th>\n",
       "      <th>TRD_EXCTN_DT</th>\n",
       "      <th>TRD_EXCTN_TM</th>\n",
       "      <th>MSG_SEQ_NB</th>\n",
       "      <th>ASCII_RPTD_VOL_TX</th>\n",
       "      <th>RPTD_PR</th>\n",
       "      <th>IDENTIFIER</th>\n",
       "    </tr>\n",
       "  </thead>\n",
       "  <tbody>\n",
       "    <tr>\n",
       "      <th>0</th>\n",
       "      <td>184502BB7</td>\n",
       "      <td>2012-03-15</td>\n",
       "      <td>14:03:27</td>\n",
       "      <td>29339</td>\n",
       "      <td>1000005</td>\n",
       "      <td>77.75</td>\n",
       "      <td>1</td>\n",
       "    </tr>\n",
       "    <tr>\n",
       "      <th>1</th>\n",
       "      <td>184502BB7</td>\n",
       "      <td>2012-03-22</td>\n",
       "      <td>9:06:46</td>\n",
       "      <td>2348</td>\n",
       "      <td>1000005</td>\n",
       "      <td>77.75</td>\n",
       "      <td>1</td>\n",
       "    </tr>\n",
       "    <tr>\n",
       "      <th>2</th>\n",
       "      <td>184502BB7</td>\n",
       "      <td>2012-10-12</td>\n",
       "      <td>12:15:25</td>\n",
       "      <td>17676</td>\n",
       "      <td>1000005</td>\n",
       "      <td>77.75</td>\n",
       "      <td>1</td>\n",
       "    </tr>\n",
       "    <tr>\n",
       "      <th>3</th>\n",
       "      <td>184502BB7</td>\n",
       "      <td>2012-10-23</td>\n",
       "      <td>16:34:20</td>\n",
       "      <td>48394</td>\n",
       "      <td>1000005</td>\n",
       "      <td>77.75</td>\n",
       "      <td>1</td>\n",
       "    </tr>\n",
       "    <tr>\n",
       "      <th>4</th>\n",
       "      <td>184502BB7</td>\n",
       "      <td>2012-10-25</td>\n",
       "      <td>10:41:10</td>\n",
       "      <td>9515</td>\n",
       "      <td>1000005</td>\n",
       "      <td>77.75</td>\n",
       "      <td>1</td>\n",
       "    </tr>\n",
       "  </tbody>\n",
       "</table>\n",
       "</div>"
      ],
      "text/plain": [
       "    CUSIP_ID TRD_EXCTN_DT TRD_EXCTN_TM  MSG_SEQ_NB  ASCII_RPTD_VOL_TX  \\\n",
       "0  184502BB7   2012-03-15     14:03:27       29339            1000005   \n",
       "1  184502BB7   2012-03-22      9:06:46        2348            1000005   \n",
       "2  184502BB7   2012-10-12     12:15:25       17676            1000005   \n",
       "3  184502BB7   2012-10-23     16:34:20       48394            1000005   \n",
       "4  184502BB7   2012-10-25     10:41:10        9515            1000005   \n",
       "\n",
       "   RPTD_PR  IDENTIFIER  \n",
       "0    77.75           1  \n",
       "1    77.75           1  \n",
       "2    77.75           1  \n",
       "3    77.75           1  \n",
       "4    77.75           1  "
      ]
     },
     "execution_count": 16,
     "metadata": {},
     "output_type": "execute_result"
    }
   ],
   "source": [
    "trace.head()"
   ]
  },
  {
   "cell_type": "markdown",
   "metadata": {},
   "source": [
    "# Calculating Yield"
   ]
  },
  {
   "cell_type": "markdown",
   "metadata": {},
   "source": [
    "Next I will use the Newton-Raphson method to calculate yield-to-maturity for each bond. Yield is the rate of return on a bond assuming that it receives all of its coupon payments and is paid off at some date in the future. It’s important because it allows investors to compare bonds with different prices and coupons. The process is as follows:\n",
    "1. Merge relevant columns from FISD. \n",
    "2. Define functions to calculate bond price and yield.\n",
    "3. Calculate Yield for each trade in the dataset. \n",
    "\n",
    "<p>\n",
    "The error checking is very important when performing this on the entire TRACE dataset. "
   ]
  },
  {
   "cell_type": "code",
   "execution_count": 17,
   "metadata": {
    "collapsed": false
   },
   "outputs": [
    {
     "name": "stdout",
     "output_type": "stream",
     "text": [
      "104640\n",
      "104640\n"
     ]
    },
    {
     "data": {
      "text/html": [
       "<div>\n",
       "<table border=\"1\" class=\"dataframe\">\n",
       "  <thead>\n",
       "    <tr style=\"text-align: right;\">\n",
       "      <th></th>\n",
       "      <th>CUSIP_ID</th>\n",
       "      <th>TRD_EXCTN_DT</th>\n",
       "      <th>TRD_EXCTN_TM</th>\n",
       "      <th>MSG_SEQ_NB</th>\n",
       "      <th>ASCII_RPTD_VOL_TX</th>\n",
       "      <th>RPTD_PR</th>\n",
       "      <th>IDENTIFIER</th>\n",
       "      <th>MATURITY</th>\n",
       "      <th>COUPON</th>\n",
       "      <th>INTEREST_FREQUENCY</th>\n",
       "      <th>PRINCIPAL_AMT</th>\n",
       "      <th>Days_to_Maturity</th>\n",
       "      <th>N_MATURITY</th>\n",
       "    </tr>\n",
       "  </thead>\n",
       "  <tbody>\n",
       "    <tr>\n",
       "      <th>0</th>\n",
       "      <td>184502BB7</td>\n",
       "      <td>2012-03-15</td>\n",
       "      <td>14:03:27</td>\n",
       "      <td>29339</td>\n",
       "      <td>1000005</td>\n",
       "      <td>77.75</td>\n",
       "      <td>1</td>\n",
       "      <td>2016-08-01</td>\n",
       "      <td>10.75</td>\n",
       "      <td>2</td>\n",
       "      <td>1000</td>\n",
       "      <td>1600</td>\n",
       "      <td>8.767123</td>\n",
       "    </tr>\n",
       "    <tr>\n",
       "      <th>1</th>\n",
       "      <td>184502BB7</td>\n",
       "      <td>2012-03-22</td>\n",
       "      <td>9:06:46</td>\n",
       "      <td>2348</td>\n",
       "      <td>1000005</td>\n",
       "      <td>77.75</td>\n",
       "      <td>1</td>\n",
       "      <td>2016-08-01</td>\n",
       "      <td>10.75</td>\n",
       "      <td>2</td>\n",
       "      <td>1000</td>\n",
       "      <td>1593</td>\n",
       "      <td>8.728767</td>\n",
       "    </tr>\n",
       "    <tr>\n",
       "      <th>2</th>\n",
       "      <td>184502BB7</td>\n",
       "      <td>2012-10-12</td>\n",
       "      <td>12:15:25</td>\n",
       "      <td>17676</td>\n",
       "      <td>1000005</td>\n",
       "      <td>77.75</td>\n",
       "      <td>1</td>\n",
       "      <td>2016-08-01</td>\n",
       "      <td>10.75</td>\n",
       "      <td>2</td>\n",
       "      <td>1000</td>\n",
       "      <td>1389</td>\n",
       "      <td>7.610959</td>\n",
       "    </tr>\n",
       "    <tr>\n",
       "      <th>3</th>\n",
       "      <td>184502BB7</td>\n",
       "      <td>2012-10-23</td>\n",
       "      <td>16:34:20</td>\n",
       "      <td>48394</td>\n",
       "      <td>1000005</td>\n",
       "      <td>77.75</td>\n",
       "      <td>1</td>\n",
       "      <td>2016-08-01</td>\n",
       "      <td>10.75</td>\n",
       "      <td>2</td>\n",
       "      <td>1000</td>\n",
       "      <td>1378</td>\n",
       "      <td>7.550685</td>\n",
       "    </tr>\n",
       "    <tr>\n",
       "      <th>4</th>\n",
       "      <td>184502BB7</td>\n",
       "      <td>2012-10-25</td>\n",
       "      <td>10:41:10</td>\n",
       "      <td>9515</td>\n",
       "      <td>1000005</td>\n",
       "      <td>77.75</td>\n",
       "      <td>1</td>\n",
       "      <td>2016-08-01</td>\n",
       "      <td>10.75</td>\n",
       "      <td>2</td>\n",
       "      <td>1000</td>\n",
       "      <td>1376</td>\n",
       "      <td>7.539726</td>\n",
       "    </tr>\n",
       "  </tbody>\n",
       "</table>\n",
       "</div>"
      ],
      "text/plain": [
       "    CUSIP_ID TRD_EXCTN_DT TRD_EXCTN_TM  MSG_SEQ_NB  ASCII_RPTD_VOL_TX  \\\n",
       "0  184502BB7   2012-03-15     14:03:27       29339            1000005   \n",
       "1  184502BB7   2012-03-22      9:06:46        2348            1000005   \n",
       "2  184502BB7   2012-10-12     12:15:25       17676            1000005   \n",
       "3  184502BB7   2012-10-23     16:34:20       48394            1000005   \n",
       "4  184502BB7   2012-10-25     10:41:10        9515            1000005   \n",
       "\n",
       "   RPTD_PR  IDENTIFIER   MATURITY  COUPON  INTEREST_FREQUENCY  PRINCIPAL_AMT  \\\n",
       "0    77.75           1 2016-08-01   10.75                   2           1000   \n",
       "1    77.75           1 2016-08-01   10.75                   2           1000   \n",
       "2    77.75           1 2016-08-01   10.75                   2           1000   \n",
       "3    77.75           1 2016-08-01   10.75                   2           1000   \n",
       "4    77.75           1 2016-08-01   10.75                   2           1000   \n",
       "\n",
       "   Days_to_Maturity  N_MATURITY  \n",
       "0              1600    8.767123  \n",
       "1              1593    8.728767  \n",
       "2              1389    7.610959  \n",
       "3              1378    7.550685  \n",
       "4              1376    7.539726  "
      ]
     },
     "execution_count": 17,
     "metadata": {},
     "output_type": "execute_result"
    }
   ],
   "source": [
    "print len(trace)\n",
    "fisd_for_yield = fisd_main[['CUSIP_ID','MATURITY','COUPON','INTEREST_FREQUENCY','PRINCIPAL_AMT']]\n",
    "fisd_for_yield['MATURITY'] = to_datetime(fisd_for_yield['MATURITY'])\n",
    "trace = trace.merge(fisd_for_yield,on='CUSIP_ID',how='inner')\n",
    "trace = trace[notnull(trace['RPTD_PR'])]\n",
    "trace['Days_to_Maturity'] = (trace['MATURITY'] - trace['TRD_EXCTN_DT']).astype('timedelta64[D]')\n",
    "trace['N_MATURITY'] = (trace['Days_to_Maturity'] / 365) * 2\n",
    "trace = trace[trace['Days_to_Maturity'] > 0]\n",
    "print len(trace)\n",
    "trace.head()"
   ]
  },
  {
   "cell_type": "code",
   "execution_count": 18,
   "metadata": {
    "collapsed": true
   },
   "outputs": [],
   "source": [
    "def Px(Rate,Mkt_Price,Face,Freq,N,C):\n",
    "    return Mkt_Price - (Face * ( 1 + Rate / Freq ) ** ( - N ) + ( C / Rate ) * ( 1 - (1 + ( Rate / Freq )) ** -N ) )\n",
    "\n",
    "def YieldCalc(guess,Mkt_Price,Face,Freq,N,C):\n",
    "    x = scipy.optimize.newton(Px, guess,args = (Mkt_Price,Face,Freq,N,C), tol=.0000001, maxiter=100)\n",
    "    return x"
   ]
  },
  {
   "cell_type": "code",
   "execution_count": 19,
   "metadata": {
    "collapsed": false
   },
   "outputs": [
    {
     "data": {
      "text/html": [
       "<div>\n",
       "<table border=\"1\" class=\"dataframe\">\n",
       "  <thead>\n",
       "    <tr style=\"text-align: right;\">\n",
       "      <th></th>\n",
       "      <th>CUSIP_ID</th>\n",
       "      <th>TRD_EXCTN_DT</th>\n",
       "      <th>TRD_EXCTN_TM</th>\n",
       "      <th>MSG_SEQ_NB</th>\n",
       "      <th>ASCII_RPTD_VOL_TX</th>\n",
       "      <th>RPTD_PR</th>\n",
       "      <th>IDENTIFIER</th>\n",
       "      <th>MATURITY</th>\n",
       "      <th>COUPON</th>\n",
       "      <th>INTEREST_FREQUENCY</th>\n",
       "      <th>PRINCIPAL_AMT</th>\n",
       "      <th>Days_to_Maturity</th>\n",
       "      <th>N_MATURITY</th>\n",
       "      <th>YTM</th>\n",
       "    </tr>\n",
       "  </thead>\n",
       "  <tbody>\n",
       "    <tr>\n",
       "      <th>24011</th>\n",
       "      <td>17453BAJ0</td>\n",
       "      <td>2004-10-01</td>\n",
       "      <td>10:41:38</td>\n",
       "      <td>3002</td>\n",
       "      <td>16000</td>\n",
       "      <td>104</td>\n",
       "      <td>1</td>\n",
       "      <td>2031-08-15</td>\n",
       "      <td>9</td>\n",
       "      <td>2</td>\n",
       "      <td>1000</td>\n",
       "      <td>9814</td>\n",
       "      <td>53.775342</td>\n",
       "      <td>0.086156</td>\n",
       "    </tr>\n",
       "    <tr>\n",
       "      <th>24015</th>\n",
       "      <td>17453BAJ0</td>\n",
       "      <td>2004-10-01</td>\n",
       "      <td>10:42:57</td>\n",
       "      <td>3043</td>\n",
       "      <td>25000</td>\n",
       "      <td>104</td>\n",
       "      <td>1</td>\n",
       "      <td>2031-08-15</td>\n",
       "      <td>9</td>\n",
       "      <td>2</td>\n",
       "      <td>1000</td>\n",
       "      <td>9814</td>\n",
       "      <td>53.775342</td>\n",
       "      <td>0.086156</td>\n",
       "    </tr>\n",
       "    <tr>\n",
       "      <th>24012</th>\n",
       "      <td>17453BAJ0</td>\n",
       "      <td>2004-10-01</td>\n",
       "      <td>10:45:12</td>\n",
       "      <td>3126</td>\n",
       "      <td>16000</td>\n",
       "      <td>104</td>\n",
       "      <td>1</td>\n",
       "      <td>2031-08-15</td>\n",
       "      <td>9</td>\n",
       "      <td>2</td>\n",
       "      <td>1000</td>\n",
       "      <td>9814</td>\n",
       "      <td>53.775342</td>\n",
       "      <td>0.086156</td>\n",
       "    </tr>\n",
       "    <tr>\n",
       "      <th>24045</th>\n",
       "      <td>17453BAJ0</td>\n",
       "      <td>2004-10-01</td>\n",
       "      <td>10:48:47</td>\n",
       "      <td>3237</td>\n",
       "      <td>7000</td>\n",
       "      <td>104</td>\n",
       "      <td>1</td>\n",
       "      <td>2031-08-15</td>\n",
       "      <td>9</td>\n",
       "      <td>2</td>\n",
       "      <td>1000</td>\n",
       "      <td>9814</td>\n",
       "      <td>53.775342</td>\n",
       "      <td>0.086156</td>\n",
       "    </tr>\n",
       "    <tr>\n",
       "      <th>24046</th>\n",
       "      <td>17453BAJ0</td>\n",
       "      <td>2004-10-01</td>\n",
       "      <td>10:50:58</td>\n",
       "      <td>3315</td>\n",
       "      <td>10000</td>\n",
       "      <td>104</td>\n",
       "      <td>1</td>\n",
       "      <td>2031-08-15</td>\n",
       "      <td>9</td>\n",
       "      <td>2</td>\n",
       "      <td>1000</td>\n",
       "      <td>9814</td>\n",
       "      <td>53.775342</td>\n",
       "      <td>0.086156</td>\n",
       "    </tr>\n",
       "  </tbody>\n",
       "</table>\n",
       "</div>"
      ],
      "text/plain": [
       "        CUSIP_ID TRD_EXCTN_DT TRD_EXCTN_TM  MSG_SEQ_NB  ASCII_RPTD_VOL_TX  \\\n",
       "24011  17453BAJ0   2004-10-01     10:41:38        3002              16000   \n",
       "24015  17453BAJ0   2004-10-01     10:42:57        3043              25000   \n",
       "24012  17453BAJ0   2004-10-01     10:45:12        3126              16000   \n",
       "24045  17453BAJ0   2004-10-01     10:48:47        3237               7000   \n",
       "24046  17453BAJ0   2004-10-01     10:50:58        3315              10000   \n",
       "\n",
       "       RPTD_PR  IDENTIFIER   MATURITY  COUPON  INTEREST_FREQUENCY  \\\n",
       "24011      104           1 2031-08-15       9                   2   \n",
       "24015      104           1 2031-08-15       9                   2   \n",
       "24012      104           1 2031-08-15       9                   2   \n",
       "24045      104           1 2031-08-15       9                   2   \n",
       "24046      104           1 2031-08-15       9                   2   \n",
       "\n",
       "       PRINCIPAL_AMT  Days_to_Maturity  N_MATURITY       YTM  \n",
       "24011           1000              9814   53.775342  0.086156  \n",
       "24015           1000              9814   53.775342  0.086156  \n",
       "24012           1000              9814   53.775342  0.086156  \n",
       "24045           1000              9814   53.775342  0.086156  \n",
       "24046           1000              9814   53.775342  0.086156  "
      ]
     },
     "execution_count": 19,
     "metadata": {},
     "output_type": "execute_result"
    }
   ],
   "source": [
    "yld = {}\n",
    "for i in trace.index:\n",
    "    try:\n",
    "        yld.update({i:YieldCalc(trace['COUPON'].loc[i]/(trace['PRINCIPAL_AMT'].loc[i]/10),trace['RPTD_PR'].loc[i],\n",
    "                                trace['PRINCIPAL_AMT'].loc[i]/10, trace['INTEREST_FREQUENCY'].loc[i],\n",
    "                                trace['N_MATURITY'].loc[i], trace['COUPON'].loc[i])})\n",
    "    except(RuntimeError):\n",
    "        pass\n",
    "    else:\n",
    "        pass\n",
    "trace['YTM']=Series(yld)\n",
    "trace = trace.sort(columns = ['CUSIP_ID','TRD_EXCTN_DT','TRD_EXCTN_TM'])\n",
    "trace.head()"
   ]
  },
  {
   "cell_type": "markdown",
   "metadata": {},
   "source": [
    "Finally, cut all trades less than 100m per with Feldhutter 2012. "
   ]
  },
  {
   "cell_type": "code",
   "execution_count": 20,
   "metadata": {
    "collapsed": false
   },
   "outputs": [],
   "source": [
    "trace = trace[trace['ASCII_RPTD_VOL_TX'] > 99999]"
   ]
  },
  {
   "cell_type": "markdown",
   "metadata": {},
   "source": [
    "# Conclusion"
   ]
  },
  {
   "cell_type": "markdown",
   "metadata": {},
   "source": [
    "<p>\n",
    "This post illustrates several important aspects to working with the TRACE database. And it only begins here. Before using it to analyze returns, researchers must account for callability in yields, called bonds, bonds with negative maturity, bonds with negative yields, ratings migration and a far more robust FISD filter then the one used in the simplified universe presented here. This is why most researchers are not willing to delve into TRACE data and part of the reason why systematic strategies have been so much slower to develop in credit relative to equities."
   ]
  }
 ],
 "metadata": {
  "kernelspec": {
   "display_name": "Python 2",
   "language": "python",
   "name": "python2"
  },
  "language_info": {
   "codemirror_mode": {
    "name": "ipython",
    "version": 2
   },
   "file_extension": ".py",
   "mimetype": "text/x-python",
   "name": "python",
   "nbconvert_exporter": "python",
   "pygments_lexer": "ipython2",
   "version": "2.7.11"
  }
 },
 "nbformat": 4,
 "nbformat_minor": 0
}
